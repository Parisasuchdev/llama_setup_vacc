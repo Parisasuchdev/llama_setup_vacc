{
 "cells": [
  {
   "cell_type": "markdown",
   "metadata": {},
   "source": [
    "# Real Data Disambiguation Test\n",
    "\n",
    "Apply our improved disambiguation to the actual academic text from `05_simple_rag.ipynb`.\n",
    "This will show how well it works on real data instead of just test cases."
   ]
  },
  {
   "cell_type": "code",
   "execution_count": 1,
   "metadata": {},
   "outputs": [
    {
     "name": "stderr",
     "output_type": "stream",
     "text": [
      "/users/j/s/jstonge1/llama_setup_vacc/.venv/lib/python3.11/site-packages/tqdm/auto.py:21: TqdmWarning: IProgress not found. Please update jupyter and ipywidgets. See https://ipywidgets.readthedocs.io/en/stable/user_install.html\n",
      "  from .autonotebook import tqdm as notebook_tqdm\n"
     ]
    }
   ],
   "source": [
    "# Imports from previous notebooks\n",
    "from outlines import Generator, from_transformers, Template\n",
    "from pydantic import BaseModel, Field\n",
    "from transformers import AutoModelForCausalLM, AutoTokenizer\n",
    "from langchain.text_splitter import RecursiveCharacterTextSplitter\n",
    "import sqlite3\n",
    "import json\n",
    "import re\n",
    "from pathlib import Path\n",
    "from typing import List, Optional\n",
    "from rich.console import Console\n",
    "from rich.table import Table\n",
    "import pandas as pd"
   ]
  },
  {
   "cell_type": "code",
   "execution_count": 2,
   "metadata": {},
   "outputs": [
    {
     "name": "stdout",
     "output_type": "stream",
     "text": [
      "Schemas defined\n"
     ]
    }
   ],
   "source": [
    "# Same schemas\n",
    "class Person(BaseModel):\n",
    "    display_name: str = Field(description=\"The canonical name of the person.\")\n",
    "    display_name_alternatives: List[str] = Field(description=\"Other ways this person's name is displayed.\")\n",
    "\n",
    "class PersonExtraction(BaseModel):\n",
    "    persons: List[Person] = Field(description=\"List of all persons found in the text.\")\n",
    "\n",
    "class DisambiguationResponse(BaseModel):\n",
    "    same_person: bool = Field(description=\"Whether the two names refer to the same person\")\n",
    "    confidence: float = Field(description=\"Confidence score from 0.0 to 1.0\")\n",
    "    reasoning: str = Field(description=\"Brief explanation\")\n",
    "\n",
    "print(\"Schemas defined\")"
   ]
  },
  {
   "cell_type": "markdown",
   "metadata": {},
   "source": [
    "## Load Real Data\n",
    "\n",
    "Same data loading as 05_simple_rag.ipynb"
   ]
  },
  {
   "cell_type": "code",
   "execution_count": 3,
   "metadata": {},
   "outputs": [
    {
     "name": "stdout",
     "output_type": "stream",
     "text": [
      "Loaded text section: 11,357 characters\n",
      "Preview: 2 | THE PERSISTENCE OF THE WORD\n",
      "\n",
      "(There Is No Dictionary in the Mind)\n",
      "\n",
      "Odysseus wept when he heard the poet sing of his great deeds abroad because, once sung, they were no longer his alone. They belon...\n"
     ]
    }
   ],
   "source": [
    "# Load data (same as other notebooks)\n",
    "data_file = Path(\"../data/output_03e48481195ba4783678f1ae446b40a7f6f12791.jsonl\")\n",
    "\n",
    "def read_jsonl(file_path):\n",
    "    with open(file_path, 'r') as file:\n",
    "        return json.loads(file.readline())\n",
    "\n",
    "# Load and get text section\n",
    "data = read_jsonl(data_file)\n",
    "full_text = data['text']\n",
    "\n",
    "# Get chapter 2 section (same as previous notebooks)\n",
    "pagelookup = {page[-1]: page[0] for page in data['attributes']['pdf_page_numbers']}\n",
    "text_section = full_text[pagelookup[33]:pagelookup[37]-1]\n",
    "\n",
    "print(f\"Loaded text section: {len(text_section):,} characters\")\n",
    "print(f\"Preview: {text_section[:200]}...\")"
   ]
  },
  {
   "cell_type": "code",
   "execution_count": 4,
   "metadata": {},
   "outputs": [
    {
     "name": "stdout",
     "output_type": "stream",
     "text": [
      "Created 16 chunks\n",
      "Average chunk size: 722 characters\n"
     ]
    }
   ],
   "source": [
    "# Chunk the text (same as previous notebooks)\n",
    "text_splitter = RecursiveCharacterTextSplitter(\n",
    "    chunk_size=1200,\n",
    "    chunk_overlap=200,\n",
    "    separators=[\"\\n\\n\", \"\\n\", \". \"]\n",
    ")\n",
    "\n",
    "chunks = text_splitter.split_text(text_section)\n",
    "print(f\"Created {len(chunks)} chunks\")\n",
    "print(f\"Average chunk size: {sum(len(c) for c in chunks) // len(chunks)} characters\")"
   ]
  },
  {
   "cell_type": "markdown",
   "metadata": {},
   "source": [
    "## Setup Models and Disambiguation\n",
    "\n",
    "Use the improved approach from 12_fixed_llm_disambiguation.ipynb"
   ]
  },
  {
   "cell_type": "code",
   "execution_count": 5,
   "metadata": {},
   "outputs": [
    {
     "name": "stderr",
     "output_type": "stream",
     "text": [
      "Loading checkpoint shards: 100%|██████████| 2/2 [00:13<00:00,  6.63s/it]\n"
     ]
    },
    {
     "name": "stdout",
     "output_type": "stream",
     "text": [
      "Model loaded\n"
     ]
    }
   ],
   "source": [
    "# Load model\n",
    "model_path = \"/gpfs1/llm/llama-3.2-hf/Meta-Llama-3.2-3B-Instruct\"\n",
    "\n",
    "model = from_transformers(\n",
    "    AutoModelForCausalLM.from_pretrained(model_path, device_map=\"cuda\"),\n",
    "    AutoTokenizer.from_pretrained(model_path)\n",
    ")\n",
    "\n",
    "print(\"Model loaded\")"
   ]
  },
  {
   "cell_type": "code",
   "execution_count": 27,
   "metadata": {},
   "outputs": [
    {
     "name": "stdout",
     "output_type": "stream",
     "text": [
      "Person extraction ready\n"
     ]
    }
   ],
   "source": [
    "# Person extraction template (same as 03_validating_NER.ipynb)\n",
    "extraction_template = Template.from_string(\n",
    "    \"\"\"You are an experienced history of science professor.\n",
    "\n",
    "Given some text, extract ALL persons mentioned or cited with their canonical and alternative names.\n",
    "\n",
    "IMPORTANT: Only include alternative names that actually appear in the text. If no alternatives are found, use an empty list.\n",
    "\n",
    "# Examples\n",
    "\n",
    "TEXT: It fell to John F. Carrington to explain. An English missionary, born in 1914 in\n",
    "Northamptonshire, Carrington left for Africa. Marshall McLuhan was mentioned.\n",
    "RESULT: {\n",
    "  \"persons\": [\n",
    "    {\"display_name\": \"John F. Carrington\", \"display_name_alternatives\": [\"Carrington\"]},\n",
    "    {\"display_name\": \"Marshall McLuhan\", \"display_name_alternatives\": []}\n",
    "  ]\n",
    "}\n",
    "\n",
    "TEXT: “The information circle becomes the unit of life,” says Werner Loewenstein after thirty years spent studying intercellular communication.\n",
    "RESULT: {\n",
    "  \"persons\": [\n",
    "    {\"display_name\": \"Werner Loewenstein\", \"display_name_alternatives\": []}\n",
    "  ]\n",
    "}\n",
    "\n",
    "\n",
    "# OUTPUT\n",
    "\n",
    "TEXT: {{ text }}\n",
    "RESULT: \"\"\")\n",
    "\n",
    "# Create extraction generator\n",
    "extraction_generator = Generator(model, PersonExtraction)\n",
    "print(\"Person extraction ready\")"
   ]
  },
  {
   "cell_type": "code",
   "execution_count": 28,
   "metadata": {},
   "outputs": [
    {
     "name": "stdout",
     "output_type": "stream",
     "text": [
      "Hybrid disambiguator ready\n"
     ]
    }
   ],
   "source": [
    "# Improved disambiguation (from 12_fixed_llm_disambiguation.ipynb)\n",
    "class FixedLLMDisambiguator:\n",
    "    def __init__(self, model):\n",
    "        self.generator = Generator(model, DisambiguationResponse)\n",
    "        \n",
    "        self.template = Template.from_string(\n",
    "            \"\"\"You are an academic name disambiguation expert.\n",
    "\n",
    "CRITICAL RULE: In academic writing, authors are first mentioned by full name, then by SURNAME ONLY.\n",
    "\n",
    "STEP-BY-STEP ANALYSIS:\n",
    "1. Extract the SURNAME (last word) from each name\n",
    "2. If surnames match AND one name is just the surname, they are the SAME PERSON\n",
    "3. Academic examples:\n",
    "   - \"Marshall McLuhan\" → surname is \"McLuhan\"\n",
    "   - \"McLuhan\" → this IS the surname \"McLuhan\"\n",
    "   - THEREFORE: \"Marshall McLuhan\" and \"McLuhan\" = SAME PERSON ✓\n",
    "\n",
    "MORE EXAMPLES:\n",
    "- \"Walter J. Ong\" + \"Ong\" = SAME PERSON (surname match)\n",
    "- \"Frank Kermode\" + \"Kermode\" = SAME PERSON (surname match)\n",
    "- \"John Smith\" + \"Jane Smith\" = DIFFERENT PEOPLE (same surname, different first names)\n",
    "\n",
    "Now analyze:\n",
    "\n",
    "NAME 1: {{ name1 }}\n",
    "CONTEXT 1: {{ context1 }}\n",
    "\n",
    "NAME 2: {{ name2 }}\n",
    "CONTEXT 2: {{ context2 }}\n",
    "\n",
    "ANALYSIS STEPS:\n",
    "1. What is the surname of NAME 1?\n",
    "2. What is the surname of NAME 2?\n",
    "3. Are the surnames the same?\n",
    "4. Is one name just the surname of the other?\n",
    "\n",
    "If surnames match and one is just the surname, they are the SAME PERSON.\n",
    "\n",
    "RESPONSE:\n",
    "\"\"\")\n",
    "    \n",
    "    def are_same_person(self, name1: str, context1: str, name2: str, context2: str):\n",
    "        prompt = self.template(\n",
    "            name1=name1,\n",
    "            context1=context1[:200],\n",
    "            name2=name2,\n",
    "            context2=context2[:200]\n",
    "        )\n",
    "        \n",
    "        try:\n",
    "            result = self.generator(prompt, max_new_tokens=300, temperature=0.0, do_sample=False)\n",
    "            return json.loads(result)\n",
    "        except Exception as e:\n",
    "            return {\n",
    "                \"same_person\": False,\n",
    "                \"confidence\": 0.0,\n",
    "                \"reasoning\": f\"Error: {e}\"\n",
    "            }\n",
    "\n",
    "# Rule-based backup\n",
    "class RuleBasedBackup:\n",
    "    def surname_match_check(self, name1: str, name2: str) -> bool:\n",
    "        # Get last word of each name (likely surname)\n",
    "        surname1 = name1.strip().split()[-1]\n",
    "        surname2 = name2.strip().split()[-1]\n",
    "        \n",
    "        # Exact surname match and one is just the surname\n",
    "        if surname1.lower() == surname2.lower():\n",
    "            words1 = len(name1.strip().split())\n",
    "            words2 = len(name2.strip().split())\n",
    "            \n",
    "            if (words1 > 1 and words2 == 1) or (words1 == 1 and words2 > 1):\n",
    "                return True\n",
    "        \n",
    "        # One name contains the other as word boundary\n",
    "        if len(name1) > len(name2):\n",
    "            longer, shorter = name1, name2\n",
    "        else:\n",
    "            longer, shorter = name2, name1\n",
    "        \n",
    "        if len(shorter) > 2:\n",
    "            pattern = r'\\b' + re.escape(shorter.lower()) + r'\\b'\n",
    "            if re.search(pattern, longer.lower()):\n",
    "                return True\n",
    "        \n",
    "        return False\n",
    "\n",
    "# Hybrid approach\n",
    "class HybridDisambiguator:\n",
    "    def __init__(self, model):\n",
    "        self.llm_disambiguator = FixedLLMDisambiguator(model)\n",
    "        self.rule_checker = RuleBasedBackup()\n",
    "    \n",
    "    def are_same_person(self, name1: str, context1: str, name2: str, context2: str):\n",
    "        # Try LLM first\n",
    "        llm_decision = self.llm_disambiguator.are_same_person(name1, context1, name2, context2)\n",
    "        \n",
    "        # Check rule-based approach\n",
    "        rule_result = self.rule_checker.surname_match_check(name1, name2)\n",
    "        \n",
    "        # If they agree, trust LLM\n",
    "        if llm_decision['same_person'] == rule_result:\n",
    "            llm_decision['method'] = 'llm_and_rule_agree'\n",
    "            return llm_decision\n",
    "        \n",
    "        # If rule says match but LLM says no - override for surname patterns\n",
    "        if rule_result and not llm_decision['same_person']:\n",
    "            return {\n",
    "                'same_person': True,\n",
    "                'confidence': 0.9,\n",
    "                'reasoning': f'Rule override: obvious surname pattern detected',\n",
    "                'method': 'rule_override'\n",
    "            }\n",
    "        else:\n",
    "            llm_decision['method'] = 'llm_preferred'\n",
    "            return llm_decision\n",
    "\n",
    "# Initialize disambiguator\n",
    "disambiguator = HybridDisambiguator(model)\n",
    "print(\"Hybrid disambiguator ready\")"
   ]
  },
  {
   "cell_type": "markdown",
   "metadata": {},
   "source": [
    "## Real Data Knowledge Base\n",
    "\n",
    "Apply extraction + disambiguation to real academic text"
   ]
  },
  {
   "cell_type": "code",
   "execution_count": 29,
   "metadata": {},
   "outputs": [
    {
     "name": "stdout",
     "output_type": "stream",
     "text": [
      "Real data KB initialized\n"
     ]
    }
   ],
   "source": [
    "class RealDataPersonsKB:\n",
    "    def __init__(self, disambiguator, db_path: str = \"real_data_persons_kb.db\"):\n",
    "        self.db_path = db_path\n",
    "        self.disambiguator = disambiguator\n",
    "        self.init_database()\n",
    "        \n",
    "    def init_database(self):\n",
    "        conn = sqlite3.connect(self.db_path)\n",
    "        cursor = conn.cursor()\n",
    "        \n",
    "        cursor.execute(\"\"\"\n",
    "            CREATE TABLE IF NOT EXISTS persons (\n",
    "                id INTEGER PRIMARY KEY,\n",
    "                display_name TEXT,\n",
    "                alternatives TEXT,\n",
    "                contexts TEXT,\n",
    "                mention_count INTEGER DEFAULT 1,\n",
    "                first_seen_chunk INTEGER\n",
    "            )\n",
    "        \"\"\")\n",
    "        \n",
    "        cursor.execute(\"\"\"\n",
    "            CREATE TABLE IF NOT EXISTS chunks (\n",
    "                id INTEGER PRIMARY KEY,\n",
    "                text TEXT,\n",
    "                chunk_index INTEGER\n",
    "            )\n",
    "        \"\"\")\n",
    "        \n",
    "        cursor.execute(\"\"\"\n",
    "            CREATE TABLE IF NOT EXISTS disambiguation_log (\n",
    "                id INTEGER PRIMARY KEY,\n",
    "                name1 TEXT,\n",
    "                name2 TEXT,\n",
    "                same_person BOOLEAN,\n",
    "                confidence REAL,\n",
    "                method TEXT,\n",
    "                reasoning TEXT\n",
    "            )\n",
    "        \"\"\")\n",
    "        \n",
    "        conn.commit()\n",
    "        conn.close()\n",
    "    \n",
    "    def add_chunk(self, text: str, chunk_index: int) -> int:\n",
    "        conn = sqlite3.connect(self.db_path)\n",
    "        cursor = conn.cursor()\n",
    "        \n",
    "        cursor.execute(\"\"\"\n",
    "            INSERT INTO chunks (text, chunk_index)\n",
    "            VALUES (?, ?)\n",
    "        \"\"\", (text, chunk_index))\n",
    "        \n",
    "        chunk_id = cursor.lastrowid\n",
    "        conn.commit()\n",
    "        conn.close()\n",
    "        return chunk_id\n",
    "    \n",
    "    def find_matching_person(self, candidate_name: str, candidate_context: str) -> Optional[int]:\n",
    "        conn = sqlite3.connect(self.db_path)\n",
    "        cursor = conn.cursor()\n",
    "        \n",
    "        cursor.execute(\"SELECT id, display_name, contexts FROM persons\")\n",
    "        existing_persons = cursor.fetchall()\n",
    "        \n",
    "        for person_id, existing_name, contexts_json in existing_persons:\n",
    "            contexts = json.loads(contexts_json) if contexts_json else []\n",
    "            existing_context = contexts[-1] if contexts else \"\"\n",
    "            \n",
    "            decision = self.disambiguator.are_same_person(\n",
    "                candidate_name, candidate_context,\n",
    "                existing_name, existing_context\n",
    "            )\n",
    "            \n",
    "            # Log decision\n",
    "            cursor.execute(\"\"\"\n",
    "                INSERT INTO disambiguation_log (name1, name2, same_person, confidence, method, reasoning)\n",
    "                VALUES (?, ?, ?, ?, ?, ?)\n",
    "            \"\"\", (\n",
    "                candidate_name, existing_name,\n",
    "                decision['same_person'],\n",
    "                decision['confidence'],\n",
    "                decision.get('method', 'unknown'),\n",
    "                decision['reasoning']\n",
    "            ))\n",
    "            \n",
    "            # Use 0.8 threshold (as discussed)\n",
    "            if decision['same_person'] and decision['confidence'] >= 0.8:\n",
    "                conn.commit()\n",
    "                conn.close()\n",
    "                return person_id\n",
    "        \n",
    "        conn.commit()\n",
    "        conn.close()\n",
    "        return None\n",
    "    \n",
    "    def add_person(self, person: Person, context: str, chunk_id: int) -> int:\n",
    "        existing_id = self.find_matching_person(person.display_name, context)\n",
    "        \n",
    "        conn = sqlite3.connect(self.db_path)\n",
    "        cursor = conn.cursor()\n",
    "        \n",
    "        if existing_id:\n",
    "            # Update existing person\n",
    "            cursor.execute(\"SELECT contexts FROM persons WHERE id = ?\", (existing_id,))\n",
    "            current_contexts = cursor.fetchone()[0]\n",
    "            contexts = json.loads(current_contexts) if current_contexts else []\n",
    "            contexts.append(context[:150])\n",
    "            \n",
    "            cursor.execute(\"\"\"\n",
    "                UPDATE persons \n",
    "                SET mention_count = mention_count + 1,\n",
    "                    contexts = ?\n",
    "                WHERE id = ?\n",
    "            \"\"\", (json.dumps(contexts), existing_id))\n",
    "            \n",
    "            person_id = existing_id\n",
    "        else:\n",
    "            # Insert new person\n",
    "            cursor.execute(\"\"\"\n",
    "                INSERT INTO persons (display_name, alternatives, contexts, first_seen_chunk)\n",
    "                VALUES (?, ?, ?, ?)\n",
    "            \"\"\", (\n",
    "                person.display_name,\n",
    "                json.dumps(person.display_name_alternatives),\n",
    "                json.dumps([context[:150]]),\n",
    "                chunk_id\n",
    "            ))\n",
    "            person_id = cursor.lastrowid\n",
    "        \n",
    "        conn.commit()\n",
    "        conn.close()\n",
    "        return person_id\n",
    "    \n",
    "    def get_stats(self):\n",
    "        conn = sqlite3.connect(self.db_path)\n",
    "        \n",
    "        persons_df = pd.read_sql_query(\"SELECT COUNT(*) as total, SUM(mention_count) as mentions FROM persons\", conn)\n",
    "        decisions_df = pd.read_sql_query(\"\"\"\n",
    "            SELECT method, same_person, COUNT(*) as count, AVG(confidence) as avg_conf\n",
    "            FROM disambiguation_log\n",
    "            GROUP BY method, same_person\n",
    "        \"\"\", conn)\n",
    "        \n",
    "        conn.close()\n",
    "        \n",
    "        return {\n",
    "            'persons': persons_df.to_dict('records')[0] if len(persons_df) > 0 else {},\n",
    "            'decisions': decisions_df.to_dict('records')\n",
    "        }\n",
    "    \n",
    "    def get_persons(self):\n",
    "        conn = sqlite3.connect(self.db_path)\n",
    "        df = pd.read_sql_query(\"\"\"\n",
    "            SELECT display_name, mention_count, alternatives\n",
    "            FROM persons \n",
    "            ORDER BY mention_count DESC\n",
    "        \"\"\", conn)\n",
    "        conn.close()\n",
    "        return df\n",
    "    \n",
    "    def get_disambiguation_examples(self, limit=10):\n",
    "        conn = sqlite3.connect(self.db_path)\n",
    "        df = pd.read_sql_query(\"\"\"\n",
    "            SELECT name1, name2, same_person, confidence, method, reasoning\n",
    "            FROM disambiguation_log\n",
    "            ORDER BY id DESC\n",
    "            LIMIT ?\n",
    "        \"\"\", conn, params=[limit])\n",
    "        conn.close()\n",
    "        return df\n",
    "\n",
    "# Initialize KB\n",
    "real_kb = RealDataPersonsKB(disambiguator)\n",
    "print(\"Real data KB initialized\")"
   ]
  },
  {
   "cell_type": "markdown",
   "metadata": {},
   "source": [
    "## Process Real Academic Text\n",
    "\n",
    "Extract persons from chunks and build knowledge base with disambiguation"
   ]
  },
  {
   "cell_type": "code",
   "execution_count": 30,
   "metadata": {},
   "outputs": [
    {
     "name": "stdout",
     "output_type": "stream",
     "text": [
      "Processing function ready\n"
     ]
    }
   ],
   "source": [
    "def process_chunk(chunk_text: str, chunk_index: int):\n",
    "    \"\"\"Extract persons from chunk and add to KB\"\"\"\n",
    "    \n",
    "    # Add chunk to KB\n",
    "    chunk_id = real_kb.add_chunk(chunk_text, chunk_index)\n",
    "    \n",
    "    # Extract persons\n",
    "    prompt = extraction_template(text=chunk_text)\n",
    "    \n",
    "    try:\n",
    "        result = extraction_generator(prompt, max_new_tokens=400, temperature=0.0, do_sample=False)\n",
    "        extracted = json.loads(result)\n",
    "        \n",
    "        persons_added = []\n",
    "        for person_data in extracted.get('persons', []):\n",
    "            person = Person(**person_data)\n",
    "            person_id = real_kb.add_person(person, chunk_text, chunk_id)\n",
    "            persons_added.append({\n",
    "                'name': person.display_name,\n",
    "                'id': person_id\n",
    "            })\n",
    "        \n",
    "        return {\n",
    "            'chunk_id': chunk_id,\n",
    "            'persons_found': len(persons_added),\n",
    "            'persons': persons_added\n",
    "        }\n",
    "        \n",
    "    except Exception as e:\n",
    "        print(f\"Error processing chunk {chunk_index}: {e}\")\n",
    "        return {'chunk_id': chunk_id, 'error': str(e)}\n",
    "\n",
    "print(\"Processing function ready\")"
   ]
  },
  {
   "cell_type": "code",
   "execution_count": null,
   "metadata": {},
   "outputs": [
    {
     "data": {
      "text/html": [
       "<pre style=\"white-space:pre;overflow-x:auto;line-height:normal;font-family:Menlo,'DejaVu Sans Mono',consolas,'Courier New',monospace\"><span style=\"font-weight: bold\">Processing real academic text chunks:</span>\n",
       "\n",
       "</pre>\n"
      ],
      "text/plain": [
       "\u001b[1mProcessing real academic text chunks:\u001b[0m\n",
       "\n"
      ]
     },
     "metadata": {},
     "output_type": "display_data"
    },
    {
     "data": {
      "text/html": [
       "<pre style=\"white-space:pre;overflow-x:auto;line-height:normal;font-family:Menlo,'DejaVu Sans Mono',consolas,'Courier New',monospace\"><span style=\"color: #008080; text-decoration-color: #008080\">Processing chunk </span><span style=\"color: #008080; text-decoration-color: #008080; font-weight: bold\">1</span><span style=\"color: #008080; text-decoration-color: #008080\">/</span><span style=\"color: #008080; text-decoration-color: #008080; font-weight: bold\">10</span>\n",
       "</pre>\n"
      ],
      "text/plain": [
       "\u001b[36mProcessing chunk \u001b[0m\u001b[1;36m1\u001b[0m\u001b[36m/\u001b[0m\u001b[1;36m10\u001b[0m\n"
      ]
     },
     "metadata": {},
     "output_type": "display_data"
    },
    {
     "data": {
      "text/html": [
       "<pre style=\"white-space:pre;overflow-x:auto;line-height:normal;font-family:Menlo,'DejaVu Sans Mono',consolas,'Courier New',monospace\">Preview: <span style=\"color: #008080; text-decoration-color: #008080; font-weight: bold\">2</span> | THE PERSISTENCE OF THE WORD\n",
       "\n",
       "<span style=\"font-weight: bold\">(</span>There Is No Dictionary in the Mind<span style=\"font-weight: bold\">)</span>\n",
       "\n",
       "Odysseus wept when he heard t<span style=\"color: #808000; text-decoration-color: #808000\">...</span>\n",
       "</pre>\n"
      ],
      "text/plain": [
       "Preview: \u001b[1;36m2\u001b[0m | THE PERSISTENCE OF THE WORD\n",
       "\n",
       "\u001b[1m(\u001b[0mThere Is No Dictionary in the Mind\u001b[1m)\u001b[0m\n",
       "\n",
       "Odysseus wept when he heard t\u001b[33m...\u001b[0m\n"
      ]
     },
     "metadata": {},
     "output_type": "display_data"
    },
    {
     "name": "stderr",
     "output_type": "stream",
     "text": [
      "/users/j/s/jstonge1/llama_setup_vacc/.venv/lib/python3.11/site-packages/transformers/generation/configuration_utils.py:629: UserWarning: `do_sample` is set to `False`. However, `temperature` is set to `0.0` -- this flag is only used in sample-based generation modes. You should set `do_sample=True` or unset `temperature`.\n",
      "  warnings.warn(\n",
      "/users/j/s/jstonge1/llama_setup_vacc/.venv/lib/python3.11/site-packages/transformers/generation/configuration_utils.py:634: UserWarning: `do_sample` is set to `False`. However, `top_p` is set to `0.9` -- this flag is only used in sample-based generation modes. You should set `do_sample=True` or unset `top_p`.\n",
      "  warnings.warn(\n",
      "Setting `pad_token_id` to `eos_token_id`:128001 for open-end generation.\n",
      "Setting `pad_token_id` to `eos_token_id`:128001 for open-end generation.\n",
      "Setting `pad_token_id` to `eos_token_id`:128001 for open-end generation.\n",
      "Setting `pad_token_id` to `eos_token_id`:128001 for open-end generation.\n"
     ]
    },
    {
     "data": {
      "text/html": [
       "<pre style=\"white-space:pre;overflow-x:auto;line-height:normal;font-family:Menlo,'DejaVu Sans Mono',consolas,'Courier New',monospace\"><span style=\"color: #008000; text-decoration-color: #008000\">✓ Found </span><span style=\"color: #008000; text-decoration-color: #008000; font-weight: bold\">2</span><span style=\"color: #008000; text-decoration-color: #008000\"> persons</span>\n",
       "</pre>\n"
      ],
      "text/plain": [
       "\u001b[32m✓ Found \u001b[0m\u001b[1;32m2\u001b[0m\u001b[32m persons\u001b[0m\n"
      ]
     },
     "metadata": {},
     "output_type": "display_data"
    },
    {
     "data": {
      "text/html": [
       "<pre style=\"white-space:pre;overflow-x:auto;line-height:normal;font-family:Menlo,'DejaVu Sans Mono',consolas,'Courier New',monospace\">  Ward Just → ID: <span style=\"color: #008080; text-decoration-color: #008080; font-weight: bold\">1</span>\n",
       "</pre>\n"
      ],
      "text/plain": [
       "  Ward Just → ID: \u001b[1;36m1\u001b[0m\n"
      ]
     },
     "metadata": {},
     "output_type": "display_data"
    },
    {
     "data": {
      "text/html": [
       "<pre style=\"white-space:pre;overflow-x:auto;line-height:normal;font-family:Menlo,'DejaVu Sans Mono',consolas,'Courier New',monospace\">  Walter J. Ong → ID: <span style=\"color: #008080; text-decoration-color: #008080; font-weight: bold\">2</span>\n",
       "</pre>\n"
      ],
      "text/plain": [
       "  Walter J. Ong → ID: \u001b[1;36m2\u001b[0m\n"
      ]
     },
     "metadata": {},
     "output_type": "display_data"
    },
    {
     "data": {
      "text/html": [
       "<pre style=\"white-space:pre;overflow-x:auto;line-height:normal;font-family:Menlo,'DejaVu Sans Mono',consolas,'Courier New',monospace\">\n",
       "</pre>\n"
      ],
      "text/plain": [
       "\n"
      ]
     },
     "metadata": {},
     "output_type": "display_data"
    },
    {
     "data": {
      "text/html": [
       "<pre style=\"white-space:pre;overflow-x:auto;line-height:normal;font-family:Menlo,'DejaVu Sans Mono',consolas,'Courier New',monospace\"><span style=\"color: #008080; text-decoration-color: #008080\">Processing chunk </span><span style=\"color: #008080; text-decoration-color: #008080; font-weight: bold\">2</span><span style=\"color: #008080; text-decoration-color: #008080\">/</span><span style=\"color: #008080; text-decoration-color: #008080; font-weight: bold\">10</span>\n",
       "</pre>\n"
      ],
      "text/plain": [
       "\u001b[36mProcessing chunk \u001b[0m\u001b[1;36m2\u001b[0m\u001b[36m/\u001b[0m\u001b[1;36m10\u001b[0m\n"
      ]
     },
     "metadata": {},
     "output_type": "display_data"
    },
    {
     "data": {
      "text/html": [
       "<pre style=\"white-space:pre;overflow-x:auto;line-height:normal;font-family:Menlo,'DejaVu Sans Mono',consolas,'Courier New',monospace\">Preview: the expression “to look up something” is an empty phrase: it would have no conceivable meaning. With<span style=\"color: #808000; text-decoration-color: #808000\">...</span>\n",
       "</pre>\n"
      ],
      "text/plain": [
       "Preview: the expression “to look up something” is an empty phrase: it would have no conceivable meaning. With\u001b[33m...\u001b[0m\n"
      ]
     },
     "metadata": {},
     "output_type": "display_data"
    },
    {
     "name": "stderr",
     "output_type": "stream",
     "text": [
      "Setting `pad_token_id` to `eos_token_id`:128001 for open-end generation.\n"
     ]
    },
    {
     "data": {
      "text/html": [
       "<pre style=\"white-space:pre;overflow-x:auto;line-height:normal;font-family:Menlo,'DejaVu Sans Mono',consolas,'Courier New',monospace\"><span style=\"color: #008000; text-decoration-color: #008000\">✓ Found </span><span style=\"color: #008000; text-decoration-color: #008000; font-weight: bold\">0</span><span style=\"color: #008000; text-decoration-color: #008000\"> persons</span>\n",
       "</pre>\n"
      ],
      "text/plain": [
       "\u001b[32m✓ Found \u001b[0m\u001b[1;32m0\u001b[0m\u001b[32m persons\u001b[0m\n"
      ]
     },
     "metadata": {},
     "output_type": "display_data"
    },
    {
     "data": {
      "text/html": [
       "<pre style=\"white-space:pre;overflow-x:auto;line-height:normal;font-family:Menlo,'DejaVu Sans Mono',consolas,'Courier New',monospace\">\n",
       "</pre>\n"
      ],
      "text/plain": [
       "\n"
      ]
     },
     "metadata": {},
     "output_type": "display_data"
    },
    {
     "data": {
      "text/html": [
       "<pre style=\"white-space:pre;overflow-x:auto;line-height:normal;font-family:Menlo,'DejaVu Sans Mono',consolas,'Courier New',monospace\"><span style=\"color: #008080; text-decoration-color: #008080\">Processing chunk </span><span style=\"color: #008080; text-decoration-color: #008080; font-weight: bold\">3</span><span style=\"color: #008080; text-decoration-color: #008080\">/</span><span style=\"color: #008080; text-decoration-color: #008080; font-weight: bold\">10</span>\n",
       "</pre>\n"
      ],
      "text/plain": [
       "\u001b[36mProcessing chunk \u001b[0m\u001b[1;36m3\u001b[0m\u001b[36m/\u001b[0m\u001b[1;36m10\u001b[0m\n"
      ]
     },
     "metadata": {},
     "output_type": "display_data"
    },
    {
     "data": {
      "text/html": [
       "<pre style=\"white-space:pre;overflow-x:auto;line-height:normal;font-family:Menlo,'DejaVu Sans Mono',consolas,'Courier New',monospace\">Preview: In the 1960s and ’70s, Ong declared the electronic age to be a new age of orality—but of “secondary <span style=\"color: #808000; text-decoration-color: #808000\">...</span>\n",
       "</pre>\n"
      ],
      "text/plain": [
       "Preview: In the 1960s and ’70s, Ong declared the electronic age to be a new age of orality—but of “secondary \u001b[33m...\u001b[0m\n"
      ]
     },
     "metadata": {},
     "output_type": "display_data"
    },
    {
     "name": "stderr",
     "output_type": "stream",
     "text": [
      "Setting `pad_token_id` to `eos_token_id`:128001 for open-end generation.\n",
      "Setting `pad_token_id` to `eos_token_id`:128001 for open-end generation.\n",
      "Setting `pad_token_id` to `eos_token_id`:128001 for open-end generation.\n",
      "Setting `pad_token_id` to `eos_token_id`:128001 for open-end generation.\n",
      "Setting `pad_token_id` to `eos_token_id`:128001 for open-end generation.\n",
      "Setting `pad_token_id` to `eos_token_id`:128001 for open-end generation.\n",
      "Setting `pad_token_id` to `eos_token_id`:128001 for open-end generation.\n",
      "Setting `pad_token_id` to `eos_token_id`:128001 for open-end generation.\n",
      "Setting `pad_token_id` to `eos_token_id`:128001 for open-end generation.\n",
      "Setting `pad_token_id` to `eos_token_id`:128001 for open-end generation.\n"
     ]
    },
    {
     "data": {
      "text/html": [
       "<pre style=\"white-space:pre;overflow-x:auto;line-height:normal;font-family:Menlo,'DejaVu Sans Mono',consolas,'Courier New',monospace\"><span style=\"color: #008000; text-decoration-color: #008000\">✓ Found </span><span style=\"color: #008000; text-decoration-color: #008000; font-weight: bold\">3</span><span style=\"color: #008000; text-decoration-color: #008000\"> persons</span>\n",
       "</pre>\n"
      ],
      "text/plain": [
       "\u001b[32m✓ Found \u001b[0m\u001b[1;32m3\u001b[0m\u001b[32m persons\u001b[0m\n"
      ]
     },
     "metadata": {},
     "output_type": "display_data"
    },
    {
     "data": {
      "text/html": [
       "<pre style=\"white-space:pre;overflow-x:auto;line-height:normal;font-family:Menlo,'DejaVu Sans Mono',consolas,'Courier New',monospace\">  Ong → ID: <span style=\"color: #008080; text-decoration-color: #008080; font-weight: bold\">2</span>\n",
       "</pre>\n"
      ],
      "text/plain": [
       "  Ong → ID: \u001b[1;36m2\u001b[0m\n"
      ]
     },
     "metadata": {},
     "output_type": "display_data"
    },
    {
     "data": {
      "text/html": [
       "<pre style=\"white-space:pre;overflow-x:auto;line-height:normal;font-family:Menlo,'DejaVu Sans Mono',consolas,'Courier New',monospace\">  Marshall McLuhan → ID: <span style=\"color: #008080; text-decoration-color: #008080; font-weight: bold\">3</span>\n",
       "</pre>\n"
      ],
      "text/plain": [
       "  Marshall McLuhan → ID: \u001b[1;36m3\u001b[0m\n"
      ]
     },
     "metadata": {},
     "output_type": "display_data"
    },
    {
     "data": {
      "text/html": [
       "<pre style=\"white-space:pre;overflow-x:auto;line-height:normal;font-family:Menlo,'DejaVu Sans Mono',consolas,'Courier New',monospace\">  Frank Kermode → ID: <span style=\"color: #008080; text-decoration-color: #008080; font-weight: bold\">4</span>\n",
       "</pre>\n"
      ],
      "text/plain": [
       "  Frank Kermode → ID: \u001b[1;36m4\u001b[0m\n"
      ]
     },
     "metadata": {},
     "output_type": "display_data"
    },
    {
     "data": {
      "text/html": [
       "<pre style=\"white-space:pre;overflow-x:auto;line-height:normal;font-family:Menlo,'DejaVu Sans Mono',consolas,'Courier New',monospace\">\n",
       "</pre>\n"
      ],
      "text/plain": [
       "\n"
      ]
     },
     "metadata": {},
     "output_type": "display_data"
    },
    {
     "data": {
      "text/html": [
       "<pre style=\"white-space:pre;overflow-x:auto;line-height:normal;font-family:Menlo,'DejaVu Sans Mono',consolas,'Courier New',monospace\"><span style=\"color: #008080; text-decoration-color: #008080\">Processing chunk </span><span style=\"color: #008080; text-decoration-color: #008080; font-weight: bold\">4</span><span style=\"color: #008080; text-decoration-color: #008080\">/</span><span style=\"color: #008080; text-decoration-color: #008080; font-weight: bold\">10</span>\n",
       "</pre>\n"
      ],
      "text/plain": [
       "\u001b[36mProcessing chunk \u001b[0m\u001b[1;36m4\u001b[0m\u001b[36m/\u001b[0m\u001b[1;36m10\u001b[0m\n"
      ]
     },
     "metadata": {},
     "output_type": "display_data"
    },
    {
     "data": {
      "text/html": [
       "<pre style=\"white-space:pre;overflow-x:auto;line-height:normal;font-family:Menlo,'DejaVu Sans Mono',consolas,'Courier New',monospace\">Preview: horizon. Whether Ong would have seen cyberspace as fundamentally oral or literary, he would surely h<span style=\"color: #808000; text-decoration-color: #808000\">...</span>\n",
       "</pre>\n"
      ],
      "text/plain": [
       "Preview: horizon. Whether Ong would have seen cyberspace as fundamentally oral or literary, he would surely h\u001b[33m...\u001b[0m\n"
      ]
     },
     "metadata": {},
     "output_type": "display_data"
    },
    {
     "name": "stderr",
     "output_type": "stream",
     "text": [
      "Setting `pad_token_id` to `eos_token_id`:128001 for open-end generation.\n"
     ]
    },
    {
     "data": {
      "text/html": [
       "<pre style=\"white-space:pre;overflow-x:auto;line-height:normal;font-family:Menlo,'DejaVu Sans Mono',consolas,'Courier New',monospace\"><span style=\"color: #008000; text-decoration-color: #008000\">✓ Found </span><span style=\"color: #008000; text-decoration-color: #008000; font-weight: bold\">0</span><span style=\"color: #008000; text-decoration-color: #008000\"> persons</span>\n",
       "</pre>\n"
      ],
      "text/plain": [
       "\u001b[32m✓ Found \u001b[0m\u001b[1;32m0\u001b[0m\u001b[32m persons\u001b[0m\n"
      ]
     },
     "metadata": {},
     "output_type": "display_data"
    },
    {
     "data": {
      "text/html": [
       "<pre style=\"white-space:pre;overflow-x:auto;line-height:normal;font-family:Menlo,'DejaVu Sans Mono',consolas,'Courier New',monospace\">\n",
       "</pre>\n"
      ],
      "text/plain": [
       "\n"
      ]
     },
     "metadata": {},
     "output_type": "display_data"
    },
    {
     "data": {
      "text/html": [
       "<pre style=\"white-space:pre;overflow-x:auto;line-height:normal;font-family:Menlo,'DejaVu Sans Mono',consolas,'Courier New',monospace\"><span style=\"color: #008080; text-decoration-color: #008080\">Processing chunk </span><span style=\"color: #008080; text-decoration-color: #008080; font-weight: bold\">5</span><span style=\"color: #008080; text-decoration-color: #008080\">/</span><span style=\"color: #008080; text-decoration-color: #008080; font-weight: bold\">10</span>\n",
       "</pre>\n"
      ],
      "text/plain": [
       "\u001b[36mProcessing chunk \u001b[0m\u001b[1;36m5\u001b[0m\u001b[36m/\u001b[0m\u001b[1;36m10\u001b[0m\n"
      ]
     },
     "metadata": {},
     "output_type": "display_data"
    },
    {
     "data": {
      "text/html": [
       "<pre style=\"white-space:pre;overflow-x:auto;line-height:normal;font-family:Menlo,'DejaVu Sans Mono',consolas,'Courier New',monospace\">Preview: You can, of course, undertake to do this. Imagine writing a treatise on horses <span style=\"font-weight: bold\">(</span>for people who have <span style=\"color: #808000; text-decoration-color: #808000\">...</span>\n",
       "</pre>\n"
      ],
      "text/plain": [
       "Preview: You can, of course, undertake to do this. Imagine writing a treatise on horses \u001b[1m(\u001b[0mfor people who have \u001b[33m...\u001b[0m\n"
      ]
     },
     "metadata": {},
     "output_type": "display_data"
    },
    {
     "name": "stderr",
     "output_type": "stream",
     "text": [
      "Setting `pad_token_id` to `eos_token_id`:128001 for open-end generation.\n"
     ]
    },
    {
     "data": {
      "text/html": [
       "<pre style=\"white-space:pre;overflow-x:auto;line-height:normal;font-family:Menlo,'DejaVu Sans Mono',consolas,'Courier New',monospace\"><span style=\"color: #008000; text-decoration-color: #008000\">✓ Found </span><span style=\"color: #008000; text-decoration-color: #008000; font-weight: bold\">0</span><span style=\"color: #008000; text-decoration-color: #008000\"> persons</span>\n",
       "</pre>\n"
      ],
      "text/plain": [
       "\u001b[32m✓ Found \u001b[0m\u001b[1;32m0\u001b[0m\u001b[32m persons\u001b[0m\n"
      ]
     },
     "metadata": {},
     "output_type": "display_data"
    },
    {
     "data": {
      "text/html": [
       "<pre style=\"white-space:pre;overflow-x:auto;line-height:normal;font-family:Menlo,'DejaVu Sans Mono',consolas,'Courier New',monospace\">\n",
       "</pre>\n"
      ],
      "text/plain": [
       "\n"
      ]
     },
     "metadata": {},
     "output_type": "display_data"
    },
    {
     "data": {
      "text/html": [
       "<pre style=\"white-space:pre;overflow-x:auto;line-height:normal;font-family:Menlo,'DejaVu Sans Mono',consolas,'Courier New',monospace\"><span style=\"color: #008080; text-decoration-color: #008080\">Processing chunk </span><span style=\"color: #008080; text-decoration-color: #008080; font-weight: bold\">6</span><span style=\"color: #008080; text-decoration-color: #008080\">/</span><span style=\"color: #008080; text-decoration-color: #008080; font-weight: bold\">10</span>\n",
       "</pre>\n"
      ],
      "text/plain": [
       "\u001b[36mProcessing chunk \u001b[0m\u001b[1;36m6\u001b[0m\u001b[36m/\u001b[0m\u001b[1;36m10\u001b[0m\n"
      ]
     },
     "metadata": {},
     "output_type": "display_data"
    },
    {
     "data": {
      "text/html": [
       "<pre style=\"white-space:pre;overflow-x:auto;line-height:normal;font-family:Menlo,'DejaVu Sans Mono',consolas,'Courier New',monospace\">Preview: Writing, as a technology, requires premeditation and special art. Language is not a technology, no m<span style=\"color: #808000; text-decoration-color: #808000\">...</span>\n",
       "</pre>\n"
      ],
      "text/plain": [
       "Preview: Writing, as a technology, requires premeditation and special art. Language is not a technology, no m\u001b[33m...\u001b[0m\n"
      ]
     },
     "metadata": {},
     "output_type": "display_data"
    },
    {
     "name": "stderr",
     "output_type": "stream",
     "text": [
      "Setting `pad_token_id` to `eos_token_id`:128001 for open-end generation.\n",
      "Setting `pad_token_id` to `eos_token_id`:128001 for open-end generation.\n",
      "Setting `pad_token_id` to `eos_token_id`:128001 for open-end generation.\n",
      "Setting `pad_token_id` to `eos_token_id`:128001 for open-end generation.\n",
      "Setting `pad_token_id` to `eos_token_id`:128001 for open-end generation.\n",
      "Setting `pad_token_id` to `eos_token_id`:128001 for open-end generation.\n",
      "Setting `pad_token_id` to `eos_token_id`:128001 for open-end generation.\n",
      "Setting `pad_token_id` to `eos_token_id`:128001 for open-end generation.\n",
      "Setting `pad_token_id` to `eos_token_id`:128001 for open-end generation.\n",
      "Setting `pad_token_id` to `eos_token_id`:128001 for open-end generation.\n",
      "Setting `pad_token_id` to `eos_token_id`:128001 for open-end generation.\n",
      "Setting `pad_token_id` to `eos_token_id`:128001 for open-end generation.\n",
      "Setting `pad_token_id` to `eos_token_id`:128001 for open-end generation.\n",
      "Setting `pad_token_id` to `eos_token_id`:128001 for open-end generation.\n",
      "Setting `pad_token_id` to `eos_token_id`:128001 for open-end generation.\n"
     ]
    },
    {
     "data": {
      "text/html": [
       "<pre style=\"white-space:pre;overflow-x:auto;line-height:normal;font-family:Menlo,'DejaVu Sans Mono',consolas,'Courier New',monospace\"><span style=\"color: #008000; text-decoration-color: #008000\">✓ Found </span><span style=\"color: #008000; text-decoration-color: #008000; font-weight: bold\">2</span><span style=\"color: #008000; text-decoration-color: #008000\"> persons</span>\n",
       "</pre>\n"
      ],
      "text/plain": [
       "\u001b[32m✓ Found \u001b[0m\u001b[1;32m2\u001b[0m\u001b[32m persons\u001b[0m\n"
      ]
     },
     "metadata": {},
     "output_type": "display_data"
    },
    {
     "data": {
      "text/html": [
       "<pre style=\"white-space:pre;overflow-x:auto;line-height:normal;font-family:Menlo,'DejaVu Sans Mono',consolas,'Courier New',monospace\">  Jonathan Miller → ID: <span style=\"color: #008080; text-decoration-color: #008080; font-weight: bold\">10</span>\n",
       "</pre>\n"
      ],
      "text/plain": [
       "  Jonathan Miller → ID: \u001b[1;36m10\u001b[0m\n"
      ]
     },
     "metadata": {},
     "output_type": "display_data"
    },
    {
     "data": {
      "text/html": [
       "<pre style=\"white-space:pre;overflow-x:auto;line-height:normal;font-family:Menlo,'DejaVu Sans Mono',consolas,'Courier New',monospace\">  Plato → ID: <span style=\"color: #008080; text-decoration-color: #008080; font-weight: bold\">5</span>\n",
       "</pre>\n"
      ],
      "text/plain": [
       "  Plato → ID: \u001b[1;36m5\u001b[0m\n"
      ]
     },
     "metadata": {},
     "output_type": "display_data"
    },
    {
     "data": {
      "text/html": [
       "<pre style=\"white-space:pre;overflow-x:auto;line-height:normal;font-family:Menlo,'DejaVu Sans Mono',consolas,'Courier New',monospace\">\n",
       "</pre>\n"
      ],
      "text/plain": [
       "\n"
      ]
     },
     "metadata": {},
     "output_type": "display_data"
    },
    {
     "data": {
      "text/html": [
       "<pre style=\"white-space:pre;overflow-x:auto;line-height:normal;font-family:Menlo,'DejaVu Sans Mono',consolas,'Courier New',monospace\"><span style=\"color: #008080; text-decoration-color: #008080\">Processing chunk </span><span style=\"color: #008080; text-decoration-color: #008080; font-weight: bold\">7</span><span style=\"color: #008080; text-decoration-color: #008080\">/</span><span style=\"color: #008080; text-decoration-color: #008080; font-weight: bold\">10</span>\n",
       "</pre>\n"
      ],
      "text/plain": [
       "\u001b[36mProcessing chunk \u001b[0m\u001b[1;36m7\u001b[0m\u001b[36m/\u001b[0m\u001b[1;36m10\u001b[0m\n"
      ]
     },
     "metadata": {},
     "output_type": "display_data"
    },
    {
     "data": {
      "text/html": [
       "<pre style=\"white-space:pre;overflow-x:auto;line-height:normal;font-family:Menlo,'DejaVu Sans Mono',consolas,'Courier New',monospace\">Preview: For this invention will produce forgetfulness in the minds of those who learn to use it, because the<span style=\"color: #808000; text-decoration-color: #808000\">...</span>\n",
       "</pre>\n"
      ],
      "text/plain": [
       "Preview: For this invention will produce forgetfulness in the minds of those who learn to use it, because the\u001b[33m...\u001b[0m\n"
      ]
     },
     "metadata": {},
     "output_type": "display_data"
    },
    {
     "name": "stderr",
     "output_type": "stream",
     "text": [
      "Setting `pad_token_id` to `eos_token_id`:128001 for open-end generation.\n"
     ]
    },
    {
     "data": {
      "text/html": [
       "<pre style=\"white-space:pre;overflow-x:auto;line-height:normal;font-family:Menlo,'DejaVu Sans Mono',consolas,'Courier New',monospace\"><span style=\"color: #008000; text-decoration-color: #008000\">✓ Found </span><span style=\"color: #008000; text-decoration-color: #008000; font-weight: bold\">0</span><span style=\"color: #008000; text-decoration-color: #008000\"> persons</span>\n",
       "</pre>\n"
      ],
      "text/plain": [
       "\u001b[32m✓ Found \u001b[0m\u001b[1;32m0\u001b[0m\u001b[32m persons\u001b[0m\n"
      ]
     },
     "metadata": {},
     "output_type": "display_data"
    },
    {
     "data": {
      "text/html": [
       "<pre style=\"white-space:pre;overflow-x:auto;line-height:normal;font-family:Menlo,'DejaVu Sans Mono',consolas,'Courier New',monospace\">\n",
       "</pre>\n"
      ],
      "text/plain": [
       "\n"
      ]
     },
     "metadata": {},
     "output_type": "display_data"
    },
    {
     "data": {
      "text/html": [
       "<pre style=\"white-space:pre;overflow-x:auto;line-height:normal;font-family:Menlo,'DejaVu Sans Mono',consolas,'Courier New',monospace\"><span style=\"color: #008080; text-decoration-color: #008080\">Processing chunk </span><span style=\"color: #008080; text-decoration-color: #008080; font-weight: bold\">8</span><span style=\"color: #008080; text-decoration-color: #008080\">/</span><span style=\"color: #008080; text-decoration-color: #008080; font-weight: bold\">10</span>\n",
       "</pre>\n"
      ],
      "text/plain": [
       "\u001b[36mProcessing chunk \u001b[0m\u001b[1;36m8\u001b[0m\u001b[36m/\u001b[0m\u001b[1;36m10\u001b[0m\n"
      ]
     },
     "metadata": {},
     "output_type": "display_data"
    },
    {
     "data": {
      "text/html": [
       "<pre style=\"white-space:pre;overflow-x:auto;line-height:normal;font-family:Menlo,'DejaVu Sans Mono',consolas,'Courier New',monospace\">Preview: External characters which are no part of themselves—this was the trouble. The written word seemed in<span style=\"color: #808000; text-decoration-color: #808000\">...</span>\n",
       "</pre>\n"
      ],
      "text/plain": [
       "Preview: External characters which are no part of themselves—this was the trouble. The written word seemed in\u001b[33m...\u001b[0m\n"
      ]
     },
     "metadata": {},
     "output_type": "display_data"
    },
    {
     "name": "stderr",
     "output_type": "stream",
     "text": [
      "Setting `pad_token_id` to `eos_token_id`:128001 for open-end generation.\n",
      "Setting `pad_token_id` to `eos_token_id`:128001 for open-end generation.\n",
      "Setting `pad_token_id` to `eos_token_id`:128001 for open-end generation.\n",
      "Setting `pad_token_id` to `eos_token_id`:128001 for open-end generation.\n",
      "Setting `pad_token_id` to `eos_token_id`:128001 for open-end generation.\n",
      "Setting `pad_token_id` to `eos_token_id`:128001 for open-end generation.\n",
      "Setting `pad_token_id` to `eos_token_id`:128001 for open-end generation.\n",
      "Setting `pad_token_id` to `eos_token_id`:128001 for open-end generation.\n",
      "Setting `pad_token_id` to `eos_token_id`:128001 for open-end generation.\n"
     ]
    },
    {
     "data": {
      "text/html": [
       "<pre style=\"white-space:pre;overflow-x:auto;line-height:normal;font-family:Menlo,'DejaVu Sans Mono',consolas,'Courier New',monospace\"><span style=\"color: #008000; text-decoration-color: #008000\">✓ Found </span><span style=\"color: #008000; text-decoration-color: #008000; font-weight: bold\">2</span><span style=\"color: #008000; text-decoration-color: #008000\"> persons</span>\n",
       "</pre>\n"
      ],
      "text/plain": [
       "\u001b[32m✓ Found \u001b[0m\u001b[1;32m2\u001b[0m\u001b[32m persons\u001b[0m\n"
      ]
     },
     "metadata": {},
     "output_type": "display_data"
    },
    {
     "data": {
      "text/html": [
       "<pre style=\"white-space:pre;overflow-x:auto;line-height:normal;font-family:Menlo,'DejaVu Sans Mono',consolas,'Courier New',monospace\">  Plato → ID: <span style=\"color: #008080; text-decoration-color: #008080; font-weight: bold\">5</span>\n",
       "</pre>\n"
      ],
      "text/plain": [
       "  Plato → ID: \u001b[1;36m5\u001b[0m\n"
      ]
     },
     "metadata": {},
     "output_type": "display_data"
    },
    {
     "data": {
      "text/html": [
       "<pre style=\"white-space:pre;overflow-x:auto;line-height:normal;font-family:Menlo,'DejaVu Sans Mono',consolas,'Courier New',monospace\">  McLuhan → ID: <span style=\"color: #008080; text-decoration-color: #008080; font-weight: bold\">3</span>\n",
       "</pre>\n"
      ],
      "text/plain": [
       "  McLuhan → ID: \u001b[1;36m3\u001b[0m\n"
      ]
     },
     "metadata": {},
     "output_type": "display_data"
    },
    {
     "data": {
      "text/html": [
       "<pre style=\"white-space:pre;overflow-x:auto;line-height:normal;font-family:Menlo,'DejaVu Sans Mono',consolas,'Courier New',monospace\">\n",
       "</pre>\n"
      ],
      "text/plain": [
       "\n"
      ]
     },
     "metadata": {},
     "output_type": "display_data"
    },
    {
     "data": {
      "text/html": [
       "<pre style=\"white-space:pre;overflow-x:auto;line-height:normal;font-family:Menlo,'DejaVu Sans Mono',consolas,'Courier New',monospace\"><span style=\"color: #008080; text-decoration-color: #008080\">Processing chunk </span><span style=\"color: #008080; text-decoration-color: #008080; font-weight: bold\">9</span><span style=\"color: #008080; text-decoration-color: #008080\">/</span><span style=\"color: #008080; text-decoration-color: #008080; font-weight: bold\">10</span>\n",
       "</pre>\n"
      ],
      "text/plain": [
       "\u001b[36mProcessing chunk \u001b[0m\u001b[1;36m9\u001b[0m\u001b[36m/\u001b[0m\u001b[1;36m10\u001b[0m\n"
      ]
     },
     "metadata": {},
     "output_type": "display_data"
    },
    {
     "data": {
      "text/html": [
       "<pre style=\"white-space:pre;overflow-x:auto;line-height:normal;font-family:Menlo,'DejaVu Sans Mono',consolas,'Courier New',monospace\">Preview: . It is still incalculable, though one statistic gives a hint: whereas the total vocabulary of any o<span style=\"color: #808000; text-decoration-color: #808000\">...</span>\n",
       "</pre>\n"
      ],
      "text/plain": [
       "Preview: . It is still incalculable, though one statistic gives a hint: whereas the total vocabulary of any o\u001b[33m...\u001b[0m\n"
      ]
     },
     "metadata": {},
     "output_type": "display_data"
    },
    {
     "name": "stderr",
     "output_type": "stream",
     "text": [
      "Setting `pad_token_id` to `eos_token_id`:128001 for open-end generation.\n"
     ]
    },
    {
     "data": {
      "text/html": [
       "<pre style=\"white-space:pre;overflow-x:auto;line-height:normal;font-family:Menlo,'DejaVu Sans Mono',consolas,'Courier New',monospace\"><span style=\"color: #008000; text-decoration-color: #008000\">✓ Found </span><span style=\"color: #008000; text-decoration-color: #008000; font-weight: bold\">0</span><span style=\"color: #008000; text-decoration-color: #008000\"> persons</span>\n",
       "</pre>\n"
      ],
      "text/plain": [
       "\u001b[32m✓ Found \u001b[0m\u001b[1;32m0\u001b[0m\u001b[32m persons\u001b[0m\n"
      ]
     },
     "metadata": {},
     "output_type": "display_data"
    },
    {
     "data": {
      "text/html": [
       "<pre style=\"white-space:pre;overflow-x:auto;line-height:normal;font-family:Menlo,'DejaVu Sans Mono',consolas,'Courier New',monospace\">\n",
       "</pre>\n"
      ],
      "text/plain": [
       "\n"
      ]
     },
     "metadata": {},
     "output_type": "display_data"
    },
    {
     "data": {
      "text/html": [
       "<pre style=\"white-space:pre;overflow-x:auto;line-height:normal;font-family:Menlo,'DejaVu Sans Mono',consolas,'Courier New',monospace\"><span style=\"color: #008080; text-decoration-color: #008080\">Processing chunk </span><span style=\"color: #008080; text-decoration-color: #008080; font-weight: bold\">10</span><span style=\"color: #008080; text-decoration-color: #008080\">/</span><span style=\"color: #008080; text-decoration-color: #008080; font-weight: bold\">10</span>\n",
       "</pre>\n"
      ],
      "text/plain": [
       "\u001b[36mProcessing chunk \u001b[0m\u001b[1;36m10\u001b[0m\u001b[36m/\u001b[0m\u001b[1;36m10\u001b[0m\n"
      ]
     },
     "metadata": {},
     "output_type": "display_data"
    },
    {
     "data": {
      "text/html": [
       "<pre style=\"white-space:pre;overflow-x:auto;line-height:normal;font-family:Menlo,'DejaVu Sans Mono',consolas,'Courier New',monospace\">Preview: With words we begin to leave traces behind us like breadcrumbs: memories in symbols for others to fo<span style=\"color: #808000; text-decoration-color: #808000\">...</span>\n",
       "</pre>\n"
      ],
      "text/plain": [
       "Preview: With words we begin to leave traces behind us like breadcrumbs: memories in symbols for others to fo\u001b[33m...\u001b[0m\n"
      ]
     },
     "metadata": {},
     "output_type": "display_data"
    },
    {
     "name": "stderr",
     "output_type": "stream",
     "text": [
      "Setting `pad_token_id` to `eos_token_id`:128001 for open-end generation.\n",
      "Setting `pad_token_id` to `eos_token_id`:128001 for open-end generation.\n",
      "Setting `pad_token_id` to `eos_token_id`:128001 for open-end generation.\n",
      "Setting `pad_token_id` to `eos_token_id`:128001 for open-end generation.\n",
      "Setting `pad_token_id` to `eos_token_id`:128001 for open-end generation.\n",
      "Setting `pad_token_id` to `eos_token_id`:128001 for open-end generation.\n",
      "Setting `pad_token_id` to `eos_token_id`:128001 for open-end generation.\n",
      "Setting `pad_token_id` to `eos_token_id`:128001 for open-end generation.\n",
      "Setting `pad_token_id` to `eos_token_id`:128001 for open-end generation.\n",
      "Setting `pad_token_id` to `eos_token_id`:128001 for open-end generation.\n",
      "Setting `pad_token_id` to `eos_token_id`:128001 for open-end generation.\n"
     ]
    }
   ],
   "source": [
    "# Process first 10 chunks of real data\n",
    "console = Console()\n",
    "console.print(\"[bold]Processing real academic text chunks:[/bold]\\n\")\n",
    "\n",
    "results = []\n",
    "\n",
    "for i, chunk in enumerate(chunks[:10]):\n",
    "    console.print(f\"[cyan]Processing chunk {i+1}/10[/cyan]\")\n",
    "    console.print(f\"Preview: {chunk[:100]}...\")\n",
    "    \n",
    "    result = process_chunk(chunk, i)\n",
    "    results.append(result)\n",
    "    \n",
    "    if 'persons_found' in result:\n",
    "        console.print(f\"[green]✓ Found {result['persons_found']} persons[/green]\")\n",
    "        for person in result['persons']:\n",
    "            console.print(f\"  {person['name']} → ID: {person['id']}\")\n",
    "    else:\n",
    "        console.print(f\"[red]✗ Error: {result.get('error', 'Unknown error')}[/red]\")\n",
    "    \n",
    "    console.print()\n",
    "\n",
    "console.print(f\"[bold]Processed {len(results)} chunks![/bold]\")"
   ]
  },
  {
   "cell_type": "markdown",
   "metadata": {},
   "source": [
    "## Analyze Real Data Results\n",
    "\n",
    "See how well disambiguation worked on actual academic text"
   ]
  },
  {
   "cell_type": "code",
   "execution_count": 11,
   "metadata": {},
   "outputs": [
    {
     "data": {
      "text/html": [
       "<pre style=\"white-space:pre;overflow-x:auto;line-height:normal;font-family:Menlo,'DejaVu Sans Mono',consolas,'Courier New',monospace\">\n",
       "<span style=\"font-weight: bold\">Real Data Results:</span>\n",
       "</pre>\n"
      ],
      "text/plain": [
       "\n",
       "\u001b[1mReal Data Results:\u001b[0m\n"
      ]
     },
     "metadata": {},
     "output_type": "display_data"
    },
    {
     "data": {
      "text/html": [
       "<pre style=\"white-space:pre;overflow-x:auto;line-height:normal;font-family:Menlo,'DejaVu Sans Mono',consolas,'Courier New',monospace\">Total unique persons: <span style=\"color: #008080; text-decoration-color: #008080; font-weight: bold\">9</span>\n",
       "</pre>\n"
      ],
      "text/plain": [
       "Total unique persons: \u001b[1;36m9\u001b[0m\n"
      ]
     },
     "metadata": {},
     "output_type": "display_data"
    },
    {
     "data": {
      "text/html": [
       "<pre style=\"white-space:pre;overflow-x:auto;line-height:normal;font-family:Menlo,'DejaVu Sans Mono',consolas,'Courier New',monospace\">Total mentions: <span style=\"color: #008080; text-decoration-color: #008080; font-weight: bold\">11</span>\n",
       "</pre>\n"
      ],
      "text/plain": [
       "Total mentions: \u001b[1;36m11\u001b[0m\n"
      ]
     },
     "metadata": {},
     "output_type": "display_data"
    },
    {
     "data": {
      "text/html": [
       "<pre style=\"white-space:pre;overflow-x:auto;line-height:normal;font-family:Menlo,'DejaVu Sans Mono',consolas,'Courier New',monospace\">\n",
       "<span style=\"font-weight: bold\">Disambiguation Method Performance:</span>\n",
       "</pre>\n"
      ],
      "text/plain": [
       "\n",
       "\u001b[1mDisambiguation Method Performance:\u001b[0m\n"
      ]
     },
     "metadata": {},
     "output_type": "display_data"
    },
    {
     "data": {
      "text/html": [
       "<pre style=\"white-space:pre;overflow-x:auto;line-height:normal;font-family:Menlo,'DejaVu Sans Mono',consolas,'Courier New',monospace\">  llm_and_rule_agree | Same: <span style=\"color: #008080; text-decoration-color: #008080; font-weight: bold\">0</span> | Count: <span style=\"color: #008080; text-decoration-color: #008080; font-weight: bold\">39</span> | Avg confidence: <span style=\"color: #008080; text-decoration-color: #008080; font-weight: bold\">0.80</span>\n",
       "</pre>\n"
      ],
      "text/plain": [
       "  llm_and_rule_agree | Same: \u001b[1;36m0\u001b[0m | Count: \u001b[1;36m39\u001b[0m | Avg confidence: \u001b[1;36m0.80\u001b[0m\n"
      ]
     },
     "metadata": {},
     "output_type": "display_data"
    },
    {
     "data": {
      "text/html": [
       "<pre style=\"white-space:pre;overflow-x:auto;line-height:normal;font-family:Menlo,'DejaVu Sans Mono',consolas,'Courier New',monospace\">  llm_and_rule_agree | Same: <span style=\"color: #008080; text-decoration-color: #008080; font-weight: bold\">1</span> | Count: <span style=\"color: #008080; text-decoration-color: #008080; font-weight: bold\">1</span> | Avg confidence: <span style=\"color: #008080; text-decoration-color: #008080; font-weight: bold\">100.00</span>\n",
       "</pre>\n"
      ],
      "text/plain": [
       "  llm_and_rule_agree | Same: \u001b[1;36m1\u001b[0m | Count: \u001b[1;36m1\u001b[0m | Avg confidence: \u001b[1;36m100.00\u001b[0m\n"
      ]
     },
     "metadata": {},
     "output_type": "display_data"
    },
    {
     "data": {
      "text/html": [
       "<pre style=\"white-space:pre;overflow-x:auto;line-height:normal;font-family:Menlo,'DejaVu Sans Mono',consolas,'Courier New',monospace\">  rule_override | Same: <span style=\"color: #008080; text-decoration-color: #008080; font-weight: bold\">1</span> | Count: <span style=\"color: #008080; text-decoration-color: #008080; font-weight: bold\">1</span> | Avg confidence: <span style=\"color: #008080; text-decoration-color: #008080; font-weight: bold\">0.90</span>\n",
       "</pre>\n"
      ],
      "text/plain": [
       "  rule_override | Same: \u001b[1;36m1\u001b[0m | Count: \u001b[1;36m1\u001b[0m | Avg confidence: \u001b[1;36m0.90\u001b[0m\n"
      ]
     },
     "metadata": {},
     "output_type": "display_data"
    },
    {
     "data": {
      "text/html": [
       "<pre style=\"white-space:pre;overflow-x:auto;line-height:normal;font-family:Menlo,'DejaVu Sans Mono',consolas,'Courier New',monospace\">\n",
       "<span style=\"font-weight: bold\">Top Mentioned Persons:</span>\n",
       "</pre>\n"
      ],
      "text/plain": [
       "\n",
       "\u001b[1mTop Mentioned Persons:\u001b[0m\n"
      ]
     },
     "metadata": {},
     "output_type": "display_data"
    },
    {
     "data": {
      "text/html": [
       "<pre style=\"white-space:pre;overflow-x:auto;line-height:normal;font-family:Menlo,'DejaVu Sans Mono',consolas,'Courier New',monospace\">┏━━━━━━━━━━━━━━━━━━┳━━━━━━━━━━┳━━━━━━━━━━━━━━━━━━━━━━━━━━━━┓\n",
       "┃<span style=\"font-weight: bold\"> Name             </span>┃<span style=\"font-weight: bold\"> Mentions </span>┃<span style=\"font-weight: bold\"> Alternatives               </span>┃\n",
       "┡━━━━━━━━━━━━━━━━━━╇━━━━━━━━━━╇━━━━━━━━━━━━━━━━━━━━━━━━━━━━┩\n",
       "│<span style=\"color: #008080; text-decoration-color: #008080\"> Walter J. Ong    </span>│<span style=\"color: #008000; text-decoration-color: #008000\"> 2        </span>│<span style=\"color: #808000; text-decoration-color: #808000\"> Ong, Walter Ong            </span>│\n",
       "│<span style=\"color: #008080; text-decoration-color: #008080\"> Marshall McLuhan </span>│<span style=\"color: #008000; text-decoration-color: #008000\"> 2        </span>│<span style=\"color: #808000; text-decoration-color: #808000\"> McLuhan, McLuhan, Marshall </span>│\n",
       "│<span style=\"color: #008080; text-decoration-color: #008080\"> Ward Just        </span>│<span style=\"color: #008000; text-decoration-color: #008000\"> 1        </span>│<span style=\"color: #808000; text-decoration-color: #808000\"> None                       </span>│\n",
       "│<span style=\"color: #008080; text-decoration-color: #008080\"> Frank Kermode    </span>│<span style=\"color: #008000; text-decoration-color: #008000\"> 1        </span>│<span style=\"color: #808000; text-decoration-color: #808000\"> Kermode                    </span>│\n",
       "│<span style=\"color: #008080; text-decoration-color: #008080\"> Plato            </span>│<span style=\"color: #008000; text-decoration-color: #008000\"> 1        </span>│<span style=\"color: #808000; text-decoration-color: #808000\"> None                       </span>│\n",
       "│<span style=\"color: #008080; text-decoration-color: #008080\"> Theus            </span>│<span style=\"color: #008000; text-decoration-color: #008000\"> 1        </span>│<span style=\"color: #808000; text-decoration-color: #808000\"> Theseus                    </span>│\n",
       "│<span style=\"color: #008080; text-decoration-color: #008080\"> Ariadne          </span>│<span style=\"color: #008000; text-decoration-color: #008000\"> 1        </span>│<span style=\"color: #808000; text-decoration-color: #808000\"> Ariadne                    </span>│\n",
       "│<span style=\"color: #008080; text-decoration-color: #008080\"> Pliny            </span>│<span style=\"color: #008000; text-decoration-color: #008000\"> 1        </span>│<span style=\"color: #808000; text-decoration-color: #808000\"> Pliny                      </span>│\n",
       "│<span style=\"color: #008080; text-decoration-color: #008080\"> Samuel Butler    </span>│<span style=\"color: #008000; text-decoration-color: #008000\"> 1        </span>│<span style=\"color: #808000; text-decoration-color: #808000\"> Samuel Butler              </span>│\n",
       "└──────────────────┴──────────┴────────────────────────────┘\n",
       "</pre>\n"
      ],
      "text/plain": [
       "┏━━━━━━━━━━━━━━━━━━┳━━━━━━━━━━┳━━━━━━━━━━━━━━━━━━━━━━━━━━━━┓\n",
       "┃\u001b[1m \u001b[0m\u001b[1mName            \u001b[0m\u001b[1m \u001b[0m┃\u001b[1m \u001b[0m\u001b[1mMentions\u001b[0m\u001b[1m \u001b[0m┃\u001b[1m \u001b[0m\u001b[1mAlternatives              \u001b[0m\u001b[1m \u001b[0m┃\n",
       "┡━━━━━━━━━━━━━━━━━━╇━━━━━━━━━━╇━━━━━━━━━━━━━━━━━━━━━━━━━━━━┩\n",
       "│\u001b[36m \u001b[0m\u001b[36mWalter J. Ong   \u001b[0m\u001b[36m \u001b[0m│\u001b[32m \u001b[0m\u001b[32m2       \u001b[0m\u001b[32m \u001b[0m│\u001b[33m \u001b[0m\u001b[33mOng, Walter Ong           \u001b[0m\u001b[33m \u001b[0m│\n",
       "│\u001b[36m \u001b[0m\u001b[36mMarshall McLuhan\u001b[0m\u001b[36m \u001b[0m│\u001b[32m \u001b[0m\u001b[32m2       \u001b[0m\u001b[32m \u001b[0m│\u001b[33m \u001b[0m\u001b[33mMcLuhan, McLuhan, Marshall\u001b[0m\u001b[33m \u001b[0m│\n",
       "│\u001b[36m \u001b[0m\u001b[36mWard Just       \u001b[0m\u001b[36m \u001b[0m│\u001b[32m \u001b[0m\u001b[32m1       \u001b[0m\u001b[32m \u001b[0m│\u001b[33m \u001b[0m\u001b[33mNone                      \u001b[0m\u001b[33m \u001b[0m│\n",
       "│\u001b[36m \u001b[0m\u001b[36mFrank Kermode   \u001b[0m\u001b[36m \u001b[0m│\u001b[32m \u001b[0m\u001b[32m1       \u001b[0m\u001b[32m \u001b[0m│\u001b[33m \u001b[0m\u001b[33mKermode                   \u001b[0m\u001b[33m \u001b[0m│\n",
       "│\u001b[36m \u001b[0m\u001b[36mPlato           \u001b[0m\u001b[36m \u001b[0m│\u001b[32m \u001b[0m\u001b[32m1       \u001b[0m\u001b[32m \u001b[0m│\u001b[33m \u001b[0m\u001b[33mNone                      \u001b[0m\u001b[33m \u001b[0m│\n",
       "│\u001b[36m \u001b[0m\u001b[36mTheus           \u001b[0m\u001b[36m \u001b[0m│\u001b[32m \u001b[0m\u001b[32m1       \u001b[0m\u001b[32m \u001b[0m│\u001b[33m \u001b[0m\u001b[33mTheseus                   \u001b[0m\u001b[33m \u001b[0m│\n",
       "│\u001b[36m \u001b[0m\u001b[36mAriadne         \u001b[0m\u001b[36m \u001b[0m│\u001b[32m \u001b[0m\u001b[32m1       \u001b[0m\u001b[32m \u001b[0m│\u001b[33m \u001b[0m\u001b[33mAriadne                   \u001b[0m\u001b[33m \u001b[0m│\n",
       "│\u001b[36m \u001b[0m\u001b[36mPliny           \u001b[0m\u001b[36m \u001b[0m│\u001b[32m \u001b[0m\u001b[32m1       \u001b[0m\u001b[32m \u001b[0m│\u001b[33m \u001b[0m\u001b[33mPliny                     \u001b[0m\u001b[33m \u001b[0m│\n",
       "│\u001b[36m \u001b[0m\u001b[36mSamuel Butler   \u001b[0m\u001b[36m \u001b[0m│\u001b[32m \u001b[0m\u001b[32m1       \u001b[0m\u001b[32m \u001b[0m│\u001b[33m \u001b[0m\u001b[33mSamuel Butler             \u001b[0m\u001b[33m \u001b[0m│\n",
       "└──────────────────┴──────────┴────────────────────────────┘\n"
      ]
     },
     "metadata": {},
     "output_type": "display_data"
    }
   ],
   "source": [
    "# Get knowledge base statistics\n",
    "stats = real_kb.get_stats()\n",
    "persons_df = real_kb.get_persons()\n",
    "decisions_df = real_kb.get_disambiguation_examples(20)\n",
    "\n",
    "console.print(\"\\n[bold]Real Data Results:[/bold]\")\n",
    "console.print(f\"Total unique persons: {stats['persons'].get('total', 0)}\")\n",
    "console.print(f\"Total mentions: {stats['persons'].get('mentions', 0)}\")\n",
    "\n",
    "console.print(\"\\n[bold]Disambiguation Method Performance:[/bold]\")\n",
    "for decision in stats['decisions']:\n",
    "    method = decision['method']\n",
    "    same = decision['same_person']\n",
    "    count = decision['count']\n",
    "    avg_conf = decision['avg_conf']\n",
    "    console.print(f\"  {method} | Same: {same} | Count: {count} | Avg confidence: {avg_conf:.2f}\")\n",
    "\n",
    "console.print(\"\\n[bold]Top Mentioned Persons:[/bold]\")\n",
    "table = Table()\n",
    "table.add_column(\"Name\", style=\"cyan\")\n",
    "table.add_column(\"Mentions\", style=\"green\")\n",
    "table.add_column(\"Alternatives\", style=\"yellow\")\n",
    "\n",
    "for _, row in persons_df.head(10).iterrows():\n",
    "    alternatives = json.loads(row['alternatives']) if row['alternatives'] else []\n",
    "    alt_text = \", \".join(alternatives) if alternatives else \"None\"\n",
    "    \n",
    "    table.add_row(\n",
    "        row['display_name'],\n",
    "        str(row['mention_count']),\n",
    "        alt_text\n",
    "    )\n",
    "\n",
    "console.print(table)"
   ]
  },
  {
   "cell_type": "code",
   "execution_count": 12,
   "metadata": {},
   "outputs": [
    {
     "data": {
      "text/html": [
       "<pre style=\"white-space:pre;overflow-x:auto;line-height:normal;font-family:Menlo,'DejaVu Sans Mono',consolas,'Courier New',monospace\">\n",
       "<span style=\"font-weight: bold\">Sample Disambiguation Decisions:</span>\n",
       "</pre>\n"
      ],
      "text/plain": [
       "\n",
       "\u001b[1mSample Disambiguation Decisions:\u001b[0m\n"
      ]
     },
     "metadata": {},
     "output_type": "display_data"
    },
    {
     "data": {
      "text/html": [
       "<pre style=\"white-space:pre;overflow-x:auto;line-height:normal;font-family:Menlo,'DejaVu Sans Mono',consolas,'Courier New',monospace\"><span style=\"color: #800000; text-decoration-color: #800000\">Samuel Butler vs Pliny</span>\n",
       "</pre>\n"
      ],
      "text/plain": [
       "\u001b[31mSamuel Butler vs Pliny\u001b[0m\n"
      ]
     },
     "metadata": {},
     "output_type": "display_data"
    },
    {
     "data": {
      "text/html": [
       "<pre style=\"white-space:pre;overflow-x:auto;line-height:normal;font-family:Menlo,'DejaVu Sans Mono',consolas,'Courier New',monospace\">  Decision: <span style=\"color: #008080; text-decoration-color: #008080; font-weight: bold\">0</span> | Confidence: <span style=\"color: #008080; text-decoration-color: #008080; font-weight: bold\">0.80</span> | Method: llm_and_rule_agree\n",
       "</pre>\n"
      ],
      "text/plain": [
       "  Decision: \u001b[1;36m0\u001b[0m | Confidence: \u001b[1;36m0.80\u001b[0m | Method: llm_and_rule_agree\n"
      ]
     },
     "metadata": {},
     "output_type": "display_data"
    },
    {
     "data": {
      "text/html": [
       "<pre style=\"white-space:pre;overflow-x:auto;line-height:normal;font-family:Menlo,'DejaVu Sans Mono',consolas,'Courier New',monospace\">  Reasoning: The surnames do not match. The surname of NAME <span style=\"color: #008080; text-decoration-color: #008080; font-weight: bold\">1</span> is <span style=\"color: #008000; text-decoration-color: #008000\">'Butler'</span>, and the surname of NAME <span style=\"color: #008080; text-decoration-color: #008080; font-weight: bold\">2</span> is <span style=\"color: #008000; text-decoration-color: #008000\">'Pliny'</span>. \n",
       "<span style=\"color: #808000; text-decoration-color: #808000\">...</span>\n",
       "</pre>\n"
      ],
      "text/plain": [
       "  Reasoning: The surnames do not match. The surname of NAME \u001b[1;36m1\u001b[0m is \u001b[32m'Butler'\u001b[0m, and the surname of NAME \u001b[1;36m2\u001b[0m is \u001b[32m'Pliny'\u001b[0m. \n",
       "\u001b[33m...\u001b[0m\n"
      ]
     },
     "metadata": {},
     "output_type": "display_data"
    },
    {
     "data": {
      "text/html": [
       "<pre style=\"white-space:pre;overflow-x:auto;line-height:normal;font-family:Menlo,'DejaVu Sans Mono',consolas,'Courier New',monospace\">\n",
       "</pre>\n"
      ],
      "text/plain": [
       "\n"
      ]
     },
     "metadata": {},
     "output_type": "display_data"
    },
    {
     "data": {
      "text/html": [
       "<pre style=\"white-space:pre;overflow-x:auto;line-height:normal;font-family:Menlo,'DejaVu Sans Mono',consolas,'Courier New',monospace\"><span style=\"color: #800000; text-decoration-color: #800000\">Samuel Butler vs Ariadne</span>\n",
       "</pre>\n"
      ],
      "text/plain": [
       "\u001b[31mSamuel Butler vs Ariadne\u001b[0m\n"
      ]
     },
     "metadata": {},
     "output_type": "display_data"
    },
    {
     "data": {
      "text/html": [
       "<pre style=\"white-space:pre;overflow-x:auto;line-height:normal;font-family:Menlo,'DejaVu Sans Mono',consolas,'Courier New',monospace\">  Decision: <span style=\"color: #008080; text-decoration-color: #008080; font-weight: bold\">0</span> | Confidence: <span style=\"color: #008080; text-decoration-color: #008080; font-weight: bold\">0.80</span> | Method: llm_and_rule_agree\n",
       "</pre>\n"
      ],
      "text/plain": [
       "  Decision: \u001b[1;36m0\u001b[0m | Confidence: \u001b[1;36m0.80\u001b[0m | Method: llm_and_rule_agree\n"
      ]
     },
     "metadata": {},
     "output_type": "display_data"
    },
    {
     "data": {
      "text/html": [
       "<pre style=\"white-space:pre;overflow-x:auto;line-height:normal;font-family:Menlo,'DejaVu Sans Mono',consolas,'Courier New',monospace\">  Reasoning: The surnames do not match. The surname of NAME <span style=\"color: #008080; text-decoration-color: #008080; font-weight: bold\">1</span> is <span style=\"color: #008000; text-decoration-color: #008000\">'Butler'</span>, and the surname of NAME <span style=\"color: #008080; text-decoration-color: #008080; font-weight: bold\">2</span> is'chem'. \n",
       "Th<span style=\"color: #808000; text-decoration-color: #808000\">...</span>\n",
       "</pre>\n"
      ],
      "text/plain": [
       "  Reasoning: The surnames do not match. The surname of NAME \u001b[1;36m1\u001b[0m is \u001b[32m'Butler'\u001b[0m, and the surname of NAME \u001b[1;36m2\u001b[0m is'chem'. \n",
       "Th\u001b[33m...\u001b[0m\n"
      ]
     },
     "metadata": {},
     "output_type": "display_data"
    },
    {
     "data": {
      "text/html": [
       "<pre style=\"white-space:pre;overflow-x:auto;line-height:normal;font-family:Menlo,'DejaVu Sans Mono',consolas,'Courier New',monospace\">\n",
       "</pre>\n"
      ],
      "text/plain": [
       "\n"
      ]
     },
     "metadata": {},
     "output_type": "display_data"
    },
    {
     "data": {
      "text/html": [
       "<pre style=\"white-space:pre;overflow-x:auto;line-height:normal;font-family:Menlo,'DejaVu Sans Mono',consolas,'Courier New',monospace\"><span style=\"color: #800000; text-decoration-color: #800000\">Samuel Butler vs Theus</span>\n",
       "</pre>\n"
      ],
      "text/plain": [
       "\u001b[31mSamuel Butler vs Theus\u001b[0m\n"
      ]
     },
     "metadata": {},
     "output_type": "display_data"
    },
    {
     "data": {
      "text/html": [
       "<pre style=\"white-space:pre;overflow-x:auto;line-height:normal;font-family:Menlo,'DejaVu Sans Mono',consolas,'Courier New',monospace\">  Decision: <span style=\"color: #008080; text-decoration-color: #008080; font-weight: bold\">0</span> | Confidence: <span style=\"color: #008080; text-decoration-color: #008080; font-weight: bold\">0.80</span> | Method: llm_and_rule_agree\n",
       "</pre>\n"
      ],
      "text/plain": [
       "  Decision: \u001b[1;36m0\u001b[0m | Confidence: \u001b[1;36m0.80\u001b[0m | Method: llm_and_rule_agree\n"
      ]
     },
     "metadata": {},
     "output_type": "display_data"
    },
    {
     "data": {
      "text/html": [
       "<pre style=\"white-space:pre;overflow-x:auto;line-height:normal;font-family:Menlo,'DejaVu Sans Mono',consolas,'Courier New',monospace\">  Reasoning: The surnames do not match. The surname of NAME <span style=\"color: #008080; text-decoration-color: #008080; font-weight: bold\">1</span> is <span style=\"color: #008000; text-decoration-color: #008000\">'Butler'</span>, while the surname of NAME <span style=\"color: #008080; text-decoration-color: #008080; font-weight: bold\">2</span> is \n",
       "<span style=\"color: #008000; text-decoration-color: #008000\">'Theus'</span><span style=\"color: #808000; text-decoration-color: #808000\">...</span>\n",
       "</pre>\n"
      ],
      "text/plain": [
       "  Reasoning: The surnames do not match. The surname of NAME \u001b[1;36m1\u001b[0m is \u001b[32m'Butler'\u001b[0m, while the surname of NAME \u001b[1;36m2\u001b[0m is \n",
       "\u001b[32m'Theus'\u001b[0m\u001b[33m...\u001b[0m\n"
      ]
     },
     "metadata": {},
     "output_type": "display_data"
    },
    {
     "data": {
      "text/html": [
       "<pre style=\"white-space:pre;overflow-x:auto;line-height:normal;font-family:Menlo,'DejaVu Sans Mono',consolas,'Courier New',monospace\">\n",
       "</pre>\n"
      ],
      "text/plain": [
       "\n"
      ]
     },
     "metadata": {},
     "output_type": "display_data"
    },
    {
     "data": {
      "text/html": [
       "<pre style=\"white-space:pre;overflow-x:auto;line-height:normal;font-family:Menlo,'DejaVu Sans Mono',consolas,'Courier New',monospace\"><span style=\"color: #800000; text-decoration-color: #800000\">Samuel Butler vs Plato</span>\n",
       "</pre>\n"
      ],
      "text/plain": [
       "\u001b[31mSamuel Butler vs Plato\u001b[0m\n"
      ]
     },
     "metadata": {},
     "output_type": "display_data"
    },
    {
     "data": {
      "text/html": [
       "<pre style=\"white-space:pre;overflow-x:auto;line-height:normal;font-family:Menlo,'DejaVu Sans Mono',consolas,'Courier New',monospace\">  Decision: <span style=\"color: #008080; text-decoration-color: #008080; font-weight: bold\">0</span> | Confidence: <span style=\"color: #008080; text-decoration-color: #008080; font-weight: bold\">0.80</span> | Method: llm_and_rule_agree\n",
       "</pre>\n"
      ],
      "text/plain": [
       "  Decision: \u001b[1;36m0\u001b[0m | Confidence: \u001b[1;36m0.80\u001b[0m | Method: llm_and_rule_agree\n"
      ]
     },
     "metadata": {},
     "output_type": "display_data"
    },
    {
     "data": {
      "text/html": [
       "<pre style=\"white-space:pre;overflow-x:auto;line-height:normal;font-family:Menlo,'DejaVu Sans Mono',consolas,'Courier New',monospace\">  Reasoning: The surnames do not match. The surname of NAME <span style=\"color: #008080; text-decoration-color: #008080; font-weight: bold\">1</span> is <span style=\"color: #008000; text-decoration-color: #008000\">'Butler'</span>, and the surname of NAME <span style=\"color: #008080; text-decoration-color: #008080; font-weight: bold\">2</span> is <span style=\"color: #008000; text-decoration-color: #008000\">'Plato'</span>. \n",
       "<span style=\"color: #808000; text-decoration-color: #808000\">...</span>\n",
       "</pre>\n"
      ],
      "text/plain": [
       "  Reasoning: The surnames do not match. The surname of NAME \u001b[1;36m1\u001b[0m is \u001b[32m'Butler'\u001b[0m, and the surname of NAME \u001b[1;36m2\u001b[0m is \u001b[32m'Plato'\u001b[0m. \n",
       "\u001b[33m...\u001b[0m\n"
      ]
     },
     "metadata": {},
     "output_type": "display_data"
    },
    {
     "data": {
      "text/html": [
       "<pre style=\"white-space:pre;overflow-x:auto;line-height:normal;font-family:Menlo,'DejaVu Sans Mono',consolas,'Courier New',monospace\">\n",
       "</pre>\n"
      ],
      "text/plain": [
       "\n"
      ]
     },
     "metadata": {},
     "output_type": "display_data"
    },
    {
     "data": {
      "text/html": [
       "<pre style=\"white-space:pre;overflow-x:auto;line-height:normal;font-family:Menlo,'DejaVu Sans Mono',consolas,'Courier New',monospace\"><span style=\"color: #800000; text-decoration-color: #800000\">Samuel Butler vs Frank Kermode</span>\n",
       "</pre>\n"
      ],
      "text/plain": [
       "\u001b[31mSamuel Butler vs Frank Kermode\u001b[0m\n"
      ]
     },
     "metadata": {},
     "output_type": "display_data"
    },
    {
     "data": {
      "text/html": [
       "<pre style=\"white-space:pre;overflow-x:auto;line-height:normal;font-family:Menlo,'DejaVu Sans Mono',consolas,'Courier New',monospace\">  Decision: <span style=\"color: #008080; text-decoration-color: #008080; font-weight: bold\">0</span> | Confidence: <span style=\"color: #008080; text-decoration-color: #008080; font-weight: bold\">0.80</span> | Method: llm_and_rule_agree\n",
       "</pre>\n"
      ],
      "text/plain": [
       "  Decision: \u001b[1;36m0\u001b[0m | Confidence: \u001b[1;36m0.80\u001b[0m | Method: llm_and_rule_agree\n"
      ]
     },
     "metadata": {},
     "output_type": "display_data"
    },
    {
     "data": {
      "text/html": [
       "<pre style=\"white-space:pre;overflow-x:auto;line-height:normal;font-family:Menlo,'DejaVu Sans Mono',consolas,'Courier New',monospace\">  Reasoning: The surnames do not match. The surname of NAME <span style=\"color: #008080; text-decoration-color: #008080; font-weight: bold\">1</span> is <span style=\"color: #008000; text-decoration-color: #008000\">'Butler'</span> and the surname of NAME <span style=\"color: #008080; text-decoration-color: #008080; font-weight: bold\">2</span> is \n",
       "<span style=\"color: #008000; text-decoration-color: #008000\">'Kermode'</span><span style=\"color: #808000; text-decoration-color: #808000\">...</span>.\n",
       "</pre>\n"
      ],
      "text/plain": [
       "  Reasoning: The surnames do not match. The surname of NAME \u001b[1;36m1\u001b[0m is \u001b[32m'Butler'\u001b[0m and the surname of NAME \u001b[1;36m2\u001b[0m is \n",
       "\u001b[32m'Kermode'\u001b[0m\u001b[33m...\u001b[0m.\n"
      ]
     },
     "metadata": {},
     "output_type": "display_data"
    },
    {
     "data": {
      "text/html": [
       "<pre style=\"white-space:pre;overflow-x:auto;line-height:normal;font-family:Menlo,'DejaVu Sans Mono',consolas,'Courier New',monospace\">\n",
       "</pre>\n"
      ],
      "text/plain": [
       "\n"
      ]
     },
     "metadata": {},
     "output_type": "display_data"
    },
    {
     "data": {
      "text/html": [
       "<pre style=\"white-space:pre;overflow-x:auto;line-height:normal;font-family:Menlo,'DejaVu Sans Mono',consolas,'Courier New',monospace\"><span style=\"color: #800000; text-decoration-color: #800000\">Samuel Butler vs Marshall McLuhan</span>\n",
       "</pre>\n"
      ],
      "text/plain": [
       "\u001b[31mSamuel Butler vs Marshall McLuhan\u001b[0m\n"
      ]
     },
     "metadata": {},
     "output_type": "display_data"
    },
    {
     "data": {
      "text/html": [
       "<pre style=\"white-space:pre;overflow-x:auto;line-height:normal;font-family:Menlo,'DejaVu Sans Mono',consolas,'Courier New',monospace\">  Decision: <span style=\"color: #008080; text-decoration-color: #008080; font-weight: bold\">0</span> | Confidence: <span style=\"color: #008080; text-decoration-color: #008080; font-weight: bold\">0.80</span> | Method: llm_and_rule_agree\n",
       "</pre>\n"
      ],
      "text/plain": [
       "  Decision: \u001b[1;36m0\u001b[0m | Confidence: \u001b[1;36m0.80\u001b[0m | Method: llm_and_rule_agree\n"
      ]
     },
     "metadata": {},
     "output_type": "display_data"
    },
    {
     "data": {
      "text/html": [
       "<pre style=\"white-space:pre;overflow-x:auto;line-height:normal;font-family:Menlo,'DejaVu Sans Mono',consolas,'Courier New',monospace\">  Reasoning: The surnames do not match. The surname of NAME <span style=\"color: #008080; text-decoration-color: #008080; font-weight: bold\">1</span> is <span style=\"color: #008000; text-decoration-color: #008000\">'Butler'</span> and the surname of NAME <span style=\"color: #008080; text-decoration-color: #008080; font-weight: bold\">2</span> is \n",
       "<span style=\"color: #008000; text-decoration-color: #008000\">'McLuhan'</span><span style=\"color: #808000; text-decoration-color: #808000\">...</span>.\n",
       "</pre>\n"
      ],
      "text/plain": [
       "  Reasoning: The surnames do not match. The surname of NAME \u001b[1;36m1\u001b[0m is \u001b[32m'Butler'\u001b[0m and the surname of NAME \u001b[1;36m2\u001b[0m is \n",
       "\u001b[32m'McLuhan'\u001b[0m\u001b[33m...\u001b[0m.\n"
      ]
     },
     "metadata": {},
     "output_type": "display_data"
    },
    {
     "data": {
      "text/html": [
       "<pre style=\"white-space:pre;overflow-x:auto;line-height:normal;font-family:Menlo,'DejaVu Sans Mono',consolas,'Courier New',monospace\">\n",
       "</pre>\n"
      ],
      "text/plain": [
       "\n"
      ]
     },
     "metadata": {},
     "output_type": "display_data"
    },
    {
     "data": {
      "text/html": [
       "<pre style=\"white-space:pre;overflow-x:auto;line-height:normal;font-family:Menlo,'DejaVu Sans Mono',consolas,'Courier New',monospace\"><span style=\"color: #800000; text-decoration-color: #800000\">Samuel Butler vs Walter J. Ong</span>\n",
       "</pre>\n"
      ],
      "text/plain": [
       "\u001b[31mSamuel Butler vs Walter J. Ong\u001b[0m\n"
      ]
     },
     "metadata": {},
     "output_type": "display_data"
    },
    {
     "data": {
      "text/html": [
       "<pre style=\"white-space:pre;overflow-x:auto;line-height:normal;font-family:Menlo,'DejaVu Sans Mono',consolas,'Courier New',monospace\">  Decision: <span style=\"color: #008080; text-decoration-color: #008080; font-weight: bold\">0</span> | Confidence: <span style=\"color: #008080; text-decoration-color: #008080; font-weight: bold\">0.80</span> | Method: llm_and_rule_agree\n",
       "</pre>\n"
      ],
      "text/plain": [
       "  Decision: \u001b[1;36m0\u001b[0m | Confidence: \u001b[1;36m0.80\u001b[0m | Method: llm_and_rule_agree\n"
      ]
     },
     "metadata": {},
     "output_type": "display_data"
    },
    {
     "data": {
      "text/html": [
       "<pre style=\"white-space:pre;overflow-x:auto;line-height:normal;font-family:Menlo,'DejaVu Sans Mono',consolas,'Courier New',monospace\">  Reasoning: The surnames do not match. The surname of NAME <span style=\"color: #008080; text-decoration-color: #008080; font-weight: bold\">1</span> is <span style=\"color: #008000; text-decoration-color: #008000\">'Butler'</span>, and the surname of NAME <span style=\"color: #008080; text-decoration-color: #008080; font-weight: bold\">2</span> is <span style=\"color: #008000; text-decoration-color: #008000\">'Ong'</span>. \n",
       "Th<span style=\"color: #808000; text-decoration-color: #808000\">...</span>\n",
       "</pre>\n"
      ],
      "text/plain": [
       "  Reasoning: The surnames do not match. The surname of NAME \u001b[1;36m1\u001b[0m is \u001b[32m'Butler'\u001b[0m, and the surname of NAME \u001b[1;36m2\u001b[0m is \u001b[32m'Ong'\u001b[0m. \n",
       "Th\u001b[33m...\u001b[0m\n"
      ]
     },
     "metadata": {},
     "output_type": "display_data"
    },
    {
     "data": {
      "text/html": [
       "<pre style=\"white-space:pre;overflow-x:auto;line-height:normal;font-family:Menlo,'DejaVu Sans Mono',consolas,'Courier New',monospace\">\n",
       "</pre>\n"
      ],
      "text/plain": [
       "\n"
      ]
     },
     "metadata": {},
     "output_type": "display_data"
    },
    {
     "data": {
      "text/html": [
       "<pre style=\"white-space:pre;overflow-x:auto;line-height:normal;font-family:Menlo,'DejaVu Sans Mono',consolas,'Courier New',monospace\"><span style=\"color: #800000; text-decoration-color: #800000\">Samuel Butler vs Ward Just</span>\n",
       "</pre>\n"
      ],
      "text/plain": [
       "\u001b[31mSamuel Butler vs Ward Just\u001b[0m\n"
      ]
     },
     "metadata": {},
     "output_type": "display_data"
    },
    {
     "data": {
      "text/html": [
       "<pre style=\"white-space:pre;overflow-x:auto;line-height:normal;font-family:Menlo,'DejaVu Sans Mono',consolas,'Courier New',monospace\">  Decision: <span style=\"color: #008080; text-decoration-color: #008080; font-weight: bold\">0</span> | Confidence: <span style=\"color: #008080; text-decoration-color: #008080; font-weight: bold\">0.80</span> | Method: llm_and_rule_agree\n",
       "</pre>\n"
      ],
      "text/plain": [
       "  Decision: \u001b[1;36m0\u001b[0m | Confidence: \u001b[1;36m0.80\u001b[0m | Method: llm_and_rule_agree\n"
      ]
     },
     "metadata": {},
     "output_type": "display_data"
    },
    {
     "data": {
      "text/html": [
       "<pre style=\"white-space:pre;overflow-x:auto;line-height:normal;font-family:Menlo,'DejaVu Sans Mono',consolas,'Courier New',monospace\">  Reasoning: The surnames do not match. The surname of NAME <span style=\"color: #008080; text-decoration-color: #008080; font-weight: bold\">1</span> is <span style=\"color: #008000; text-decoration-color: #008000\">'Butler'</span> and the surname of NAME <span style=\"color: #008080; text-decoration-color: #008080; font-weight: bold\">2</span> is <span style=\"color: #008000; text-decoration-color: #008000\">'Just'</span>. \n",
       "Th<span style=\"color: #808000; text-decoration-color: #808000\">...</span>\n",
       "</pre>\n"
      ],
      "text/plain": [
       "  Reasoning: The surnames do not match. The surname of NAME \u001b[1;36m1\u001b[0m is \u001b[32m'Butler'\u001b[0m and the surname of NAME \u001b[1;36m2\u001b[0m is \u001b[32m'Just'\u001b[0m. \n",
       "Th\u001b[33m...\u001b[0m\n"
      ]
     },
     "metadata": {},
     "output_type": "display_data"
    },
    {
     "data": {
      "text/html": [
       "<pre style=\"white-space:pre;overflow-x:auto;line-height:normal;font-family:Menlo,'DejaVu Sans Mono',consolas,'Courier New',monospace\">\n",
       "</pre>\n"
      ],
      "text/plain": [
       "\n"
      ]
     },
     "metadata": {},
     "output_type": "display_data"
    },
    {
     "data": {
      "text/html": [
       "<pre style=\"white-space:pre;overflow-x:auto;line-height:normal;font-family:Menlo,'DejaVu Sans Mono',consolas,'Courier New',monospace\"><span style=\"color: #800000; text-decoration-color: #800000\">Pliny vs Ariadne</span>\n",
       "</pre>\n"
      ],
      "text/plain": [
       "\u001b[31mPliny vs Ariadne\u001b[0m\n"
      ]
     },
     "metadata": {},
     "output_type": "display_data"
    },
    {
     "data": {
      "text/html": [
       "<pre style=\"white-space:pre;overflow-x:auto;line-height:normal;font-family:Menlo,'DejaVu Sans Mono',consolas,'Courier New',monospace\">  Decision: <span style=\"color: #008080; text-decoration-color: #008080; font-weight: bold\">0</span> | Confidence: <span style=\"color: #008080; text-decoration-color: #008080; font-weight: bold\">0.80</span> | Method: llm_and_rule_agree\n",
       "</pre>\n"
      ],
      "text/plain": [
       "  Decision: \u001b[1;36m0\u001b[0m | Confidence: \u001b[1;36m0.80\u001b[0m | Method: llm_and_rule_agree\n"
      ]
     },
     "metadata": {},
     "output_type": "display_data"
    },
    {
     "data": {
      "text/html": [
       "<pre style=\"white-space:pre;overflow-x:auto;line-height:normal;font-family:Menlo,'DejaVu Sans Mono',consolas,'Courier New',monospace\">  Reasoning: The surnames do not match. The surname of NAME <span style=\"color: #008080; text-decoration-color: #008080; font-weight: bold\">1</span> is <span style=\"color: #008000; text-decoration-color: #008000\">'Pliny'</span> and the surname of NAME <span style=\"color: #008080; text-decoration-color: #008080; font-weight: bold\">2</span> is <span style=\"color: #008000; text-decoration-color: #008000\">'Ariadne'</span>. \n",
       "<span style=\"color: #808000; text-decoration-color: #808000\">...</span>\n",
       "</pre>\n"
      ],
      "text/plain": [
       "  Reasoning: The surnames do not match. The surname of NAME \u001b[1;36m1\u001b[0m is \u001b[32m'Pliny'\u001b[0m and the surname of NAME \u001b[1;36m2\u001b[0m is \u001b[32m'Ariadne'\u001b[0m. \n",
       "\u001b[33m...\u001b[0m\n"
      ]
     },
     "metadata": {},
     "output_type": "display_data"
    },
    {
     "data": {
      "text/html": [
       "<pre style=\"white-space:pre;overflow-x:auto;line-height:normal;font-family:Menlo,'DejaVu Sans Mono',consolas,'Courier New',monospace\">\n",
       "</pre>\n"
      ],
      "text/plain": [
       "\n"
      ]
     },
     "metadata": {},
     "output_type": "display_data"
    },
    {
     "data": {
      "text/html": [
       "<pre style=\"white-space:pre;overflow-x:auto;line-height:normal;font-family:Menlo,'DejaVu Sans Mono',consolas,'Courier New',monospace\"><span style=\"color: #800000; text-decoration-color: #800000\">Pliny vs Theus</span>\n",
       "</pre>\n"
      ],
      "text/plain": [
       "\u001b[31mPliny vs Theus\u001b[0m\n"
      ]
     },
     "metadata": {},
     "output_type": "display_data"
    },
    {
     "data": {
      "text/html": [
       "<pre style=\"white-space:pre;overflow-x:auto;line-height:normal;font-family:Menlo,'DejaVu Sans Mono',consolas,'Courier New',monospace\">  Decision: <span style=\"color: #008080; text-decoration-color: #008080; font-weight: bold\">0</span> | Confidence: <span style=\"color: #008080; text-decoration-color: #008080; font-weight: bold\">0.80</span> | Method: llm_and_rule_agree\n",
       "</pre>\n"
      ],
      "text/plain": [
       "  Decision: \u001b[1;36m0\u001b[0m | Confidence: \u001b[1;36m0.80\u001b[0m | Method: llm_and_rule_agree\n"
      ]
     },
     "metadata": {},
     "output_type": "display_data"
    },
    {
     "data": {
      "text/html": [
       "<pre style=\"white-space:pre;overflow-x:auto;line-height:normal;font-family:Menlo,'DejaVu Sans Mono',consolas,'Courier New',monospace\">  Reasoning: The surnames do not match. The surname of NAME <span style=\"color: #008080; text-decoration-color: #008080; font-weight: bold\">1</span> is <span style=\"color: #008000; text-decoration-color: #008000\">'Pliny'</span> and the surname of NAME <span style=\"color: #008080; text-decoration-color: #008080; font-weight: bold\">2</span> is <span style=\"color: #008000; text-decoration-color: #008000\">'Theus'</span>. \n",
       "Th<span style=\"color: #808000; text-decoration-color: #808000\">...</span>\n",
       "</pre>\n"
      ],
      "text/plain": [
       "  Reasoning: The surnames do not match. The surname of NAME \u001b[1;36m1\u001b[0m is \u001b[32m'Pliny'\u001b[0m and the surname of NAME \u001b[1;36m2\u001b[0m is \u001b[32m'Theus'\u001b[0m. \n",
       "Th\u001b[33m...\u001b[0m\n"
      ]
     },
     "metadata": {},
     "output_type": "display_data"
    },
    {
     "data": {
      "text/html": [
       "<pre style=\"white-space:pre;overflow-x:auto;line-height:normal;font-family:Menlo,'DejaVu Sans Mono',consolas,'Courier New',monospace\">\n",
       "</pre>\n"
      ],
      "text/plain": [
       "\n"
      ]
     },
     "metadata": {},
     "output_type": "display_data"
    }
   ],
   "source": [
    "# Show some actual disambiguation decisions\n",
    "console.print(\"\\n[bold]Sample Disambiguation Decisions:[/bold]\")\n",
    "\n",
    "for _, row in decisions_df.head(10).iterrows():\n",
    "    color = \"green\" if row['same_person'] else \"red\"\n",
    "    console.print(f\"[{color}]{row['name1']} vs {row['name2']}[/{color}]\")\n",
    "    console.print(f\"  Decision: {row['same_person']} | Confidence: {row['confidence']:.2f} | Method: {row['method']}\")\n",
    "    console.print(f\"  Reasoning: {row['reasoning'][:100]}...\")\n",
    "    console.print()"
   ]
  },
  {
   "cell_type": "code",
   "execution_count": 13,
   "metadata": {},
   "outputs": [
    {
     "data": {
      "text/html": [
       "<pre style=\"white-space:pre;overflow-x:auto;line-height:normal;font-family:Menlo,'DejaVu Sans Mono',consolas,'Courier New',monospace\">\n",
       "<span style=\"font-weight: bold\">Looking for Key Academic Figures:</span>\n",
       "</pre>\n"
      ],
      "text/plain": [
       "\n",
       "\u001b[1mLooking for Key Academic Figures:\u001b[0m\n"
      ]
     },
     "metadata": {},
     "output_type": "display_data"
    },
    {
     "data": {
      "text/html": [
       "<pre style=\"white-space:pre;overflow-x:auto;line-height:normal;font-family:Menlo,'DejaVu Sans Mono',consolas,'Courier New',monospace\">Found key academic figures:\n",
       "</pre>\n"
      ],
      "text/plain": [
       "Found key academic figures:\n"
      ]
     },
     "metadata": {},
     "output_type": "display_data"
    },
    {
     "data": {
      "text/html": [
       "<pre style=\"white-space:pre;overflow-x:auto;line-height:normal;font-family:Menlo,'DejaVu Sans Mono',consolas,'Courier New',monospace\">  Walter J. Ong <span style=\"font-weight: bold\">(</span><span style=\"color: #008080; text-decoration-color: #008080; font-weight: bold\">2</span> mentions<span style=\"font-weight: bold\">)</span>\n",
       "</pre>\n"
      ],
      "text/plain": [
       "  Walter J. Ong \u001b[1m(\u001b[0m\u001b[1;36m2\u001b[0m mentions\u001b[1m)\u001b[0m\n"
      ]
     },
     "metadata": {},
     "output_type": "display_data"
    },
    {
     "data": {
      "text/html": [
       "<pre style=\"white-space:pre;overflow-x:auto;line-height:normal;font-family:Menlo,'DejaVu Sans Mono',consolas,'Courier New',monospace\">  Marshall McLuhan <span style=\"font-weight: bold\">(</span><span style=\"color: #008080; text-decoration-color: #008080; font-weight: bold\">2</span> mentions<span style=\"font-weight: bold\">)</span>\n",
       "</pre>\n"
      ],
      "text/plain": [
       "  Marshall McLuhan \u001b[1m(\u001b[0m\u001b[1;36m2\u001b[0m mentions\u001b[1m)\u001b[0m\n"
      ]
     },
     "metadata": {},
     "output_type": "display_data"
    },
    {
     "data": {
      "text/html": [
       "<pre style=\"white-space:pre;overflow-x:auto;line-height:normal;font-family:Menlo,'DejaVu Sans Mono',consolas,'Courier New',monospace\">  Frank Kermode <span style=\"font-weight: bold\">(</span><span style=\"color: #008080; text-decoration-color: #008080; font-weight: bold\">1</span> mentions<span style=\"font-weight: bold\">)</span>\n",
       "</pre>\n"
      ],
      "text/plain": [
       "  Frank Kermode \u001b[1m(\u001b[0m\u001b[1;36m1\u001b[0m mentions\u001b[1m)\u001b[0m\n"
      ]
     },
     "metadata": {},
     "output_type": "display_data"
    },
    {
     "data": {
      "text/html": [
       "<pre style=\"white-space:pre;overflow-x:auto;line-height:normal;font-family:Menlo,'DejaVu Sans Mono',consolas,'Courier New',monospace\">  Plato <span style=\"font-weight: bold\">(</span><span style=\"color: #008080; text-decoration-color: #008080; font-weight: bold\">1</span> mentions<span style=\"font-weight: bold\">)</span>\n",
       "</pre>\n"
      ],
      "text/plain": [
       "  Plato \u001b[1m(\u001b[0m\u001b[1;36m1\u001b[0m mentions\u001b[1m)\u001b[0m\n"
      ]
     },
     "metadata": {},
     "output_type": "display_data"
    }
   ],
   "source": [
    "# Look for specific patterns we care about\n",
    "console.print(\"\\n[bold]Looking for Key Academic Figures:[/bold]\")\n",
    "\n",
    "key_figures = ['Ong', 'Walter J. Ong', 'McLuhan', 'Marshall McLuhan', 'Plato', 'Socrates', 'Kermode']\n",
    "\n",
    "found_figures = []\n",
    "for _, row in persons_df.iterrows():\n",
    "    if any(fig.lower() in row['display_name'].lower() for fig in key_figures):\n",
    "        found_figures.append(row)\n",
    "\n",
    "if found_figures:\n",
    "    console.print(\"Found key academic figures:\")\n",
    "    for person in found_figures:\n",
    "        console.print(f\"  {person['display_name']} ({person['mention_count']} mentions)\")\n",
    "else:\n",
    "    console.print(\"[yellow]No key figures found - may need to process more chunks[/yellow]\")"
   ]
  },
  {
   "cell_type": "code",
   "execution_count": 26,
   "metadata": {},
   "outputs": [
    {
     "name": "stdout",
     "output_type": "stream",
     "text": [
      "2 | THE PERSISTENCE OF THE WORD\n",
      "\n",
      "(There Is No Dictionary in the Mind)\n",
      "\n",
      "Odysseus wept when he heard the poet sing of his great deeds abroad because, once sung, they were no longer his alone. They belonged to anyone who heard the song.\n",
      "\n",
      "—Ward Just (2004)\n",
      "\n",
      "“TRY TO IMAGINE,” proposed Walter J. Ong, Jesuit priest, philosopher, and cultural historian, “a culture where no one has ever ‘looked up’ anything.” To subtract the technologies of information internalized over two millennia requires a leap of imagination backward into a forgotten past. The hardest technology to erase from our minds is the first of all: writing. This arises at the very dawn of history, as it must, because the history begins with the writing. The pastness of the past depends on it.\n",
      "\n",
      "It takes a few thousand years for this mapping of language onto a system of signs to become second nature, and then there is no return to naïveté. Forgotten is the time when our very awareness of words came from seeing them. “In a primary oral culture,” as Ong noted,\n",
      "\n",
      "----\n",
      "\n",
      "the expression “to look up something” is an empty phrase: it would have no conceivable meaning. Without writing, words as such have no visual presence, even when the objects they represent are visual. They are sounds. You might “call” them back—“recall” them. But there is nowhere to “look” for them. They have no focus and no trace.\n",
      "\n",
      "----\n",
      "\n",
      "In the 1960s and ’70s, Ong declared the electronic age to be a new age of orality—but of “secondary orality,” the spoken word amplified and extended as never before, but always in the context of literacy: voices heard against a background of ubiquitous print. The first age of orality had lasted quite a bit longer. It covered almost the entire lifetime of the species, writing being a late development, general literacy being almost an afterthought. Like Marshall McLuhan, with whom he was often compared (“the other eminent Catholic-electronic prophet,” said a scornful Frank Kermode), Ong had the misfortune to make his visionary assessments of a new age just before it actually arrived. The new media seemed to be radio, telephone, and television. But these were just the faint glimmerings in the night sky, signaling the light that still lay just beyond the\n",
      "The Information\n",
      "\n",
      "----\n",
      "\n",
      "horizon. Whether Ong would have seen cyberspace as fundamentally oral or literary, he would surely have recognized it as transformative: not just a revitalization of older forms, not just an amplification, but something wholly new. He might have sensed a coming discontinuity akin to the emergence of literacy itself. Few understood better than Ong just how profound a discontinuity that had been.\n",
      "\n",
      "When he began his studies, “oral literature” was a common phrase. It is an oxymoron laced with anachronism; the words imply an all-too-unconscious approach to the past by way of the present. Oral literature was generally treated as a variant of writing; this, Ong said, was “rather like thinking of horses as automobiles without wheels.”\n",
      "\n",
      "----\n",
      "\n",
      "You can, of course, undertake to do this. Imagine writing a treatise on horses (for people who have never seen a horse) which starts with the concept not of “horse” but of “automobile,” built on the readers’ direct experience of automobiles. It proceeds to discourse on horses by always referring to them as “wheelless automobiles,” explaining to highly automobilized readers all the points of difference…. Instead of wheels, the wheelless automobiles have enlarged toenails called hooves; instead of headlights, eyes; instead of a coat of lacquer, something called hair; instead of gasoline for fuel, hay, and so on. In the end, horses are only what they are not.\n",
      "\n",
      "When it comes to understanding the preliterate past, we modern folk are hopelessly automobilized. The written word is the mechanism by which we know what we know. It organizes our thought. We may wish to understand the rise of literacy both historically and logically, but history and logic are themselves the products of literate thought.\n",
      "\n",
      "----\n",
      "\n",
      "Writing, as a technology, requires premeditation and special art. Language is not a technology, no matter how well developed and efficacious. It is not best seen as something separate from the mind; it is what the mind does. “Language in fact bears the same relationship to the concept of mind that legislation bears to the concept of parliament,” says Jonathan Miller: “it is a competence forever bodying itself in a series of concrete performances.” Much the same might be said of writing—it is concrete performance—but when the word is instantiated in paper or stone, it takes on a separate existence as artifice. It is a product of tools, and it is a tool. And like many technologies that followed, it thereby inspired immediate detractors.\n",
      "\n",
      "One unlikely Luddite was also one of the first long-term beneficiaries. Plato (channeling the nonwriter Socrates) warned that this technology meant impoverishment:\n",
      "\n",
      "----\n",
      "\n",
      "For this invention will produce forgetfulness in the minds of those who learn to use it, because they will not practice their memory. Their trust in writing, produced by external characters which are no part of themselves, will discourage the use of their own memory within them. You have invented an elixir not of memory, but of reminding; and you offer your pupils the appearance of wisdom, not true wisdom.\n",
      "\n",
      "----\n",
      "\n",
      "External characters which are no part of themselves—this was the trouble. The written word seemed insincere. Ersatz scratchings on papyrus or clay were far abstracted from the real, the free-flowing sound of language, intimately bound up with thought so as to seem coterminous with it. Writing appeared to draw knowledge away from the person, to place their memories in storage. It also separated the speaker from the listener, by so many miles or years. The deepest consequences of writing, for the individual and for the culture, could hardly have been foreseen, but even Plato could see some of the power of this disconnection. The one speaks to the multitude. The dead speak to the living, the living to the unborn. As McLuhan said, “Two thousand years of manuscript culture lay ahead of the Western world when Plato made this observation.” The power of this first artificial memory was incalculable: to restructure thought, to engender history\n",
      "\n",
      "----\n",
      "\n",
      ". It is still incalculable, though one statistic gives a hint: whereas the total vocabulary of any oral language measures a few thousand words, the single language that has been written most widely, English, has a documented vocabulary of well over a million words, a corpus that grows by thousands of words a year. These words do not exist only in the present. Each word has a provenance and a history that melts into its present life.\n",
      "\n",
      "----\n",
      "\n",
      "With words we begin to leave traces behind us like breadcrumbs: memories in symbols for others to follow. Ants deploy their pheromones, trails of chemical information; Theseus unwound Ariadne’s thread. Now people leave paper trails. Writing comes into being to retain information across time and across space. Before writing, communication is evanescent and local; sounds carry a few yards and fade to oblivion. The evanescence of the spoken word went without saying. So fleeting was speech that the rare phenomenon of the echo, a sound heard once and then again, seemed a sort of magic. “This miraculous rebounding of the voice, the Greeks have a pretty name for, and call it Echo,” wrote Pliny. “The spoken symbol,” as Samuel Butler observed, “perishes instantly without material trace, and if it lives at all does so only in the minds of those who heard it.” Butler was able to formulate this truth just as it was being falsified for the first time, at the end of the nineteenth century, by the arrival of the electric technologies for capturing speech. It was precisely because it was no longer completely true that it could be clearly seen\n"
     ]
    }
   ],
   "source": [
    "print('\\n\\n----\\n\\n'.join(chunks[:10]))"
   ]
  },
  {
   "cell_type": "markdown",
   "metadata": {},
   "source": [
    "## Summary: Real Data Performance\n",
    "\n",
    "This shows how the improved disambiguation performs on actual academic text from Gleick's \"The Information\".\n",
    "\n",
    "### 🎯 **Key Metrics to Watch**\n",
    "1. **Total unique persons** vs **total mentions** - lower ratio = better disambiguation\n",
    "2. **Method distribution** - how often LLM vs rule-based backup was used\n",
    "3. **Confidence levels** - are they realistic for the decisions made?\n",
    "4. **Specific patterns** - did \"Walter J. Ong\" and \"Ong\" get properly merged?\n",
    "\n",
    "### 📊 **Expected Results**\n",
    "- Should see persons like \"Walter J. Ong\" with multiple mentions (merged properly)\n",
    "- \"Ong\" references should be merged with \"Walter J. Ong\"\n",
    "- \"Marshall McLuhan\" and \"McLuhan\" should be merged\n",
    "- Method should show mix of \"llm_and_rule_agree\" and \"rule_override\" for obvious cases\n",
    "\n",
    "### 🔧 **Success Indicators**\n",
    "- **Good**: Few unique persons with high mention counts\n",
    "- **Bad**: Many unique persons with 1 mention each (failed disambiguation)\n",
    "- **Good**: Rule overrides working for obvious surname patterns\n",
    "- **Good**: Realistic confidence scores (0.8-0.95 range)\n",
    "\n",
    "This real-world test shows whether our disambiguation fixes actually work on academic text rather than just test cases."
   ]
  }
 ],
 "metadata": {
  "kernelspec": {
   "display_name": "llama-setup-vacc",
   "language": "python",
   "name": "python3"
  },
  "language_info": {
   "codemirror_mode": {
    "name": "ipython",
    "version": 3
   },
   "file_extension": ".py",
   "mimetype": "text/x-python",
   "name": "python",
   "nbconvert_exporter": "python",
   "pygments_lexer": "ipython3",
   "version": "3.11.7"
  }
 },
 "nbformat": 4,
 "nbformat_minor": 4
}

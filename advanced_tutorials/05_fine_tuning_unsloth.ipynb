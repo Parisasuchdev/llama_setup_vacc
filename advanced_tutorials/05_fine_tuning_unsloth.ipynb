{
 "cells": [
  {
   "cell_type": "markdown",
   "id": "c43de99c",
   "metadata": {},
   "source": [
    "**Author**: JSO  \n",
    "**Date**: Aug 13  \n",
    "**Description**:  \n",
    "In this notebook, we use `unsloth` together with `datasets` to fine-tune LLMs ability to accurately detect data availability statements in papers. Don't ask where the data is coming from for now, i'll add details later on.\n",
    "\n",
    "We use the following stack\n",
    " - libraries:\n",
    "    - `unsloth`\n",
    "    - `trl`\n",
    "    - `datasets`\n",
    " - models:\n",
    "    - `meta-llama/Llama-3-8B-Instruct` (huggingface)\n",
    " - hardware:\n",
    "    - A100(40G)\n",
    "\n",
    "The notebook has two parts:\n",
    "1. Fine-tuning using unsloth\n",
    "2. Quality assessment of our fine-tuned model\n",
    "\n",
    "I would typically have the fine-tuning as its own python script, which I would submit to the VACC partition. For pedagogical purpose, we keep all the script within this notebook.\n",
    "\n",
    "**Important: this notebook have conflicting dependencies with other notebooks. I encapsulated the dependencies using the `uv` package manager. To run the notebook, you need to use `uv` using the following command**:\n",
    "```bash\n",
    "uv sync --group fine_tuning\n",
    "```"
   ]
  },
  {
   "cell_type": "markdown",
   "id": "a5e36a35",
   "metadata": {},
   "source": [
    "## Part I: Fine tuning using unsloth"
   ]
  },
  {
   "cell_type": "code",
   "execution_count": null,
   "id": "3f1b347f",
   "metadata": {},
   "outputs": [
    {
     "name": "stdout",
     "output_type": "stream",
     "text": [
      "🦥 Unsloth: Will patch your computer to enable 2x faster free finetuning.\n",
      "🦥 Unsloth Zoo will now patch everything to make training faster!\n"
     ]
    }
   ],
   "source": [
    "from unsloth import FastLanguageModel,  is_bfloat16_supported\n",
    "from trl import SFTTrainer\n",
    "from datasets import Dataset\n",
    "from transformers import TrainingArguments\n",
    "import pandas as pd\n",
    "import torch"
   ]
  },
  {
   "cell_type": "code",
   "execution_count": 2,
   "id": "5a1060e8",
   "metadata": {},
   "outputs": [
    {
     "name": "stdout",
     "output_type": "stream",
     "text": [
      "==((====))==  Unsloth 2025.8.5: Fast Llama patching. Transformers: 4.55.1.\n",
      "   \\\\   /|    NVIDIA A100-PCIE-40GB. Num GPUs = 1. Max memory: 39.495 GB. Platform: Linux.\n",
      "O^O/ \\_/ \\    Torch: 2.7.1+cu126. CUDA: 8.0. CUDA Toolkit: 12.6. Triton: 3.3.1\n",
      "\\        /    Bfloat16 = TRUE. FA [Xformers = 0.0.31.post1. FA2 = False]\n",
      " \"-____-\"     Free license: http://github.com/unslothai/unsloth\n",
      "Unsloth: Fast downloading is enabled - ignore downloading bars which are red colored!\n"
     ]
    },
    {
     "data": {
      "application/vnd.jupyter.widget-view+json": {
       "model_id": "710edd6fab4e4ce881b6be17b5a68949",
       "version_major": 2,
       "version_minor": 0
      },
      "text/plain": [
       "Loading checkpoint shards:   0%|          | 0/4 [00:00<?, ?it/s]"
      ]
     },
     "metadata": {},
     "output_type": "display_data"
    }
   ],
   "source": [
    "max_seq_length = 2048 # Supports automatic RoPE Scaling, so choose any number\n",
    "\n",
    "# Load model\n",
    "model, tokenizer = FastLanguageModel.from_pretrained(\n",
    "    model_name=\"meta-llama/Meta-Llama-3-8B-Instruct\",\n",
    "    max_seq_length=max_seq_length,\n",
    "    dtype=None,  # None for auto detection. Float16 for Tesla T4, V100, Bfloat16 for Ampere+\n",
    "    load_in_4bit=False,  # Use 4bit quantization to reduce memory usage. Can be False\n",
    ")"
   ]
  },
  {
   "cell_type": "code",
   "execution_count": 3,
   "id": "dbdb1b39",
   "metadata": {},
   "outputs": [],
   "source": [
    "# datas stuff\n",
    "alpaca_prompt = \"\"\"Below is an instruction that describes a task, paired with an input that provides further context. Write a response that appropriately completes the request.\n",
    "\n",
    "### Instruction:\n",
    "{}\n",
    "\n",
    "### Inputs:\n",
    "{}\n",
    "\n",
    "### Response:\n",
    "{}\"\"\"\n"
   ]
  },
  {
   "cell_type": "code",
   "execution_count": 4,
   "id": "cc7365e7",
   "metadata": {},
   "outputs": [],
   "source": [
    "EOS_TOKEN = tokenizer.eos_token # Must add EOS_TOKEN\n",
    "def formatting_prompts_func(examples):\n",
    "    instructions = examples[\"instruction\"]\n",
    "    inputs = examples['text']\n",
    "    outputs      = examples[\"output\"]\n",
    "    texts = []\n",
    "    for instruction, input, output in zip(instructions, inputs, outputs):\n",
    "        # Must add EOS_TOKEN, otherwise your generation will go on forever!\n",
    "        text = alpaca_prompt.format(instruction, input, output) + EOS_TOKEN\n",
    "        texts.append(text)\n",
    "    return { \"text\" : texts, }\n"
   ]
  },
  {
   "cell_type": "code",
   "execution_count": 5,
   "id": "40dc098b",
   "metadata": {},
   "outputs": [
    {
     "data": {
      "application/vnd.jupyter.widget-view+json": {
       "model_id": "48dbeb32a3094d08a34c18d5357627c0",
       "version_major": 2,
       "version_minor": 0
      },
      "text/plain": [
       "Map:   0%|          | 0/106 [00:00<?, ? examples/s]"
      ]
     },
     "metadata": {},
     "output_type": "display_data"
    }
   ],
   "source": [
    "balanced_df = pd.read_csv(\"../data/train.csv\")\n",
    "balanced_df = balanced_df.rename(columns = {\"Text\": \"text\", \"Label\": \"output\"})\n",
    "dataset = Dataset.from_pandas(balanced_df)\n",
    "\n",
    "dataset = dataset.map(formatting_prompts_func, batched = True,)"
   ]
  },
  {
   "cell_type": "code",
   "execution_count": 6,
   "id": "3213d7e0",
   "metadata": {},
   "outputs": [
    {
     "name": "stderr",
     "output_type": "stream",
     "text": [
      "Unsloth 2025.8.5 patched 32 layers with 32 QKV layers, 32 O layers and 32 MLP layers.\n"
     ]
    }
   ],
   "source": [
    "# Do model patching and add fast LoRA weights\n",
    "model = FastLanguageModel.get_peft_model(\n",
    "    model,\n",
    "    r = 32, # Choose any number > 0 ! Suggested 8, 16, 32, 64, 128\n",
    "    target_modules = [\"q_proj\", \"k_proj\", \"v_proj\", \"o_proj\",\n",
    "                      \"gate_proj\", \"up_proj\", \"down_proj\",],\n",
    "    lora_alpha = 16,\n",
    "    lora_dropout = 0, # Supports any, but = 0 is optimized\n",
    "    bias = \"none\",    # Supports any, but = \"none\" is optimized\n",
    "    use_gradient_checkpointing = \"unsloth\", # True or \"unsloth\" for very long context\n",
    "    random_state = 3407,\n",
    "    use_rslora = True,  # We support rank stabilized LoRA\n",
    "    loftq_config = None, # And LoftQ\n",
    ")"
   ]
  },
  {
   "cell_type": "code",
   "execution_count": 7,
   "id": "76041001",
   "metadata": {},
   "outputs": [
    {
     "data": {
      "application/vnd.jupyter.widget-view+json": {
       "model_id": "994efb89fe484eb19f69265e74b1debd",
       "version_major": 2,
       "version_minor": 0
      },
      "text/plain": [
       "Unsloth: Tokenizing [\"text\"]:   0%|          | 0/106 [00:00<?, ? examples/s]"
      ]
     },
     "metadata": {},
     "output_type": "display_data"
    }
   ],
   "source": [
    "trainer = SFTTrainer(\n",
    "    model=model,\n",
    "    tokenizer = tokenizer,\n",
    "    dataset_text_field = \"text\",\n",
    "    train_dataset=dataset,\n",
    "    max_seq_length = max_seq_length,\n",
    "    dataset_num_proc = 2,\n",
    "    args = TrainingArguments(\n",
    "        per_device_train_batch_size = 8,\n",
    "        gradient_accumulation_steps = 2,\n",
    "        warmup_steps = 5,\n",
    "        max_steps = 250,\n",
    "        learning_rate = 5e-5,\n",
    "        fp16 = not is_bfloat16_supported(),\n",
    "        bf16 = is_bfloat16_supported(),\n",
    "        logging_steps = 1,\n",
    "        optim = \"adamw_8bit\",\n",
    "        weight_decay = 0.01,\n",
    "        lr_scheduler_type = \"cosine\",\n",
    "        seed = 3407,\n",
    "        output_dir = \"./test_unsloth\",\n",
    "    )\n",
    ")"
   ]
  },
  {
   "cell_type": "code",
   "execution_count": 8,
   "id": "16aa65fa",
   "metadata": {},
   "outputs": [],
   "source": [
    "gpu_stats = torch.cuda.get_device_properties(0)\n",
    "start_gpu_memory = round(torch.cuda.max_memory_reserved() / 1024 / 1024 / 1024, 3)\n",
    "max_memory = round(gpu_stats.total_memory / 1024 / 1024 / 1024, 3)\n",
    "print(f\"GPU = {gpu_stats.name}. Max memory = {max_memory} GB.\")\n",
    "print(f\"{start_gpu_memory} GB of memory reserved.\")\n",
    "\n",
    "trainer_stats = trainer.train()"
   ]
  },
  {
   "cell_type": "code",
   "execution_count": 9,
   "id": "ba78a964",
   "metadata": {},
   "outputs": [
    {
     "data": {
      "application/vnd.jupyter.widget-view+json": {
       "model_id": "8f42438036314981afc957f745b3883f",
       "version_major": 2,
       "version_minor": 0
      },
      "text/plain": [
       "Processing Files (0 / 0)                : |          |  0.00B /  0.00B            "
      ]
     },
     "metadata": {},
     "output_type": "display_data"
    },
    {
     "data": {
      "application/vnd.jupyter.widget-view+json": {
       "model_id": "d4660bcbf454403f9398722cd999b688",
       "version_major": 2,
       "version_minor": 0
      },
      "text/plain": [
       "New Data Upload                         : |          |  0.00B /  0.00B            "
      ]
     },
     "metadata": {},
     "output_type": "display_data"
    },
    {
     "data": {
      "application/vnd.jupyter.widget-view+json": {
       "model_id": "da4549210f774560acd54cdb3dfc1829",
       "version_major": 2,
       "version_minor": 0
      },
      "text/plain": [
       "  ...petjp68q7/adapter_model.safetensors:   3%|2         | 8.39MB /  336MB            "
      ]
     },
     "metadata": {},
     "output_type": "display_data"
    },
    {
     "name": "stdout",
     "output_type": "stream",
     "text": [
      "Saved model to https://huggingface.co/jstonge1/dark-data-lora-balanced\n"
     ]
    },
    {
     "data": {
      "application/vnd.jupyter.widget-view+json": {
       "model_id": "bcc5c37d156745d28b17d113e44a08a6",
       "version_major": 2,
       "version_minor": 0
      },
      "text/plain": [
       "Processing Files (0 / 0)                : |          |  0.00B /  0.00B            "
      ]
     },
     "metadata": {},
     "output_type": "display_data"
    },
    {
     "data": {
      "application/vnd.jupyter.widget-view+json": {
       "model_id": "3cdc1ca65845437ea8b95a4d3f31865c",
       "version_major": 2,
       "version_minor": 0
      },
      "text/plain": [
       "New Data Upload                         : |          |  0.00B /  0.00B            "
      ]
     },
     "metadata": {},
     "output_type": "display_data"
    },
    {
     "data": {
      "application/vnd.jupyter.widget-view+json": {
       "model_id": "368bccd5fb944b16a49a3a15de653135",
       "version_major": 2,
       "version_minor": 0
      },
      "text/plain": [
       "  /tmp/tmpkns11bog/tokenizer.json       : 100%|##########| 17.2MB / 17.2MB            "
      ]
     },
     "metadata": {},
     "output_type": "display_data"
    }
   ],
   "source": [
    "model.push_to_hub(\"jstonge1/dark-data-lora-balanced\")\n",
    "tokenizer.push_to_hub(\"jstonge1/dark-data-lora-balanced\")"
   ]
  },
  {
   "cell_type": "markdown",
   "id": "0ca011ec",
   "metadata": {},
   "source": [
    "# Part 2: Quality assessment of our fine-tuned model\n",
    "_restart the notebook_"
   ]
  },
  {
   "cell_type": "code",
   "execution_count": null,
   "id": "43effedc",
   "metadata": {},
   "outputs": [],
   "source": [
    "from unsloth import FastLanguageModel\n",
    "from transformers import TextStreamer\n",
    "from sklearn.model_selection import train_test_split\n",
    "from sklearn.metrics import accuracy_score\n",
    "from sklearn.metrics import classification_report\n",
    "from sklearn.metrics import confusion_matrix\n",
    "import matplotlib.pyplot as plt\n",
    "from sklearn.metrics import confusion_matrix, ConfusionMatrixDisplay\n",
    "from textwrap import wrap\n",
    "import pandas as pd\n",
    "import numpy as np\n"
   ]
  },
  {
   "cell_type": "code",
   "execution_count": 11,
   "id": "e4a455f8",
   "metadata": {},
   "outputs": [
    {
     "name": "stdout",
     "output_type": "stream",
     "text": [
      "==((====))==  Unsloth 2025.8.5: Fast Llama patching. Transformers: 4.55.1.\n",
      "   \\\\   /|    NVIDIA A100-PCIE-40GB. Num GPUs = 1. Max memory: 39.495 GB. Platform: Linux.\n",
      "O^O/ \\_/ \\    Torch: 2.7.1+cu126. CUDA: 8.0. CUDA Toolkit: 12.6. Triton: 3.3.1\n",
      "\\        /    Bfloat16 = TRUE. FA [Xformers = 0.0.31.post1. FA2 = False]\n",
      " \"-____-\"     Free license: http://github.com/unslothai/unsloth\n",
      "Unsloth: Fast downloading is enabled - ignore downloading bars which are red colored!\n"
     ]
    },
    {
     "data": {
      "application/vnd.jupyter.widget-view+json": {
       "model_id": "db84c28ed67e4d709854fb6a26444a36",
       "version_major": 2,
       "version_minor": 0
      },
      "text/plain": [
       "Loading checkpoint shards:   0%|          | 0/4 [00:00<?, ?it/s]"
      ]
     },
     "metadata": {},
     "output_type": "display_data"
    },
    {
     "data": {
      "application/vnd.jupyter.widget-view+json": {
       "model_id": "6ac0f7f29625418493b4c83c8a4bafe4",
       "version_major": 2,
       "version_minor": 0
      },
      "text/plain": [
       "adapter_model.safetensors:   0%|          | 0.00/336M [00:00<?, ?B/s]"
      ]
     },
     "metadata": {},
     "output_type": "display_data"
    },
    {
     "data": {
      "text/plain": [
       "PeftModelForCausalLM(\n",
       "  (base_model): LoraModel(\n",
       "    (model): LlamaForCausalLM(\n",
       "      (model): LlamaModel(\n",
       "        (embed_tokens): Embedding(128256, 4096, padding_idx=128255)\n",
       "        (layers): ModuleList(\n",
       "          (0-31): 32 x LlamaDecoderLayer(\n",
       "            (self_attn): LlamaAttention(\n",
       "              (q_proj): lora.Linear(\n",
       "                (base_layer): Linear(in_features=4096, out_features=4096, bias=False)\n",
       "                (lora_dropout): ModuleDict(\n",
       "                  (default): Identity()\n",
       "                )\n",
       "                (lora_A): ModuleDict(\n",
       "                  (default): Linear(in_features=4096, out_features=32, bias=False)\n",
       "                )\n",
       "                (lora_B): ModuleDict(\n",
       "                  (default): Linear(in_features=32, out_features=4096, bias=False)\n",
       "                )\n",
       "                (lora_embedding_A): ParameterDict()\n",
       "                (lora_embedding_B): ParameterDict()\n",
       "                (lora_magnitude_vector): ModuleDict()\n",
       "              )\n",
       "              (k_proj): lora.Linear(\n",
       "                (base_layer): Linear(in_features=4096, out_features=1024, bias=False)\n",
       "                (lora_dropout): ModuleDict(\n",
       "                  (default): Identity()\n",
       "                )\n",
       "                (lora_A): ModuleDict(\n",
       "                  (default): Linear(in_features=4096, out_features=32, bias=False)\n",
       "                )\n",
       "                (lora_B): ModuleDict(\n",
       "                  (default): Linear(in_features=32, out_features=1024, bias=False)\n",
       "                )\n",
       "                (lora_embedding_A): ParameterDict()\n",
       "                (lora_embedding_B): ParameterDict()\n",
       "                (lora_magnitude_vector): ModuleDict()\n",
       "              )\n",
       "              (v_proj): lora.Linear(\n",
       "                (base_layer): Linear(in_features=4096, out_features=1024, bias=False)\n",
       "                (lora_dropout): ModuleDict(\n",
       "                  (default): Identity()\n",
       "                )\n",
       "                (lora_A): ModuleDict(\n",
       "                  (default): Linear(in_features=4096, out_features=32, bias=False)\n",
       "                )\n",
       "                (lora_B): ModuleDict(\n",
       "                  (default): Linear(in_features=32, out_features=1024, bias=False)\n",
       "                )\n",
       "                (lora_embedding_A): ParameterDict()\n",
       "                (lora_embedding_B): ParameterDict()\n",
       "                (lora_magnitude_vector): ModuleDict()\n",
       "              )\n",
       "              (o_proj): lora.Linear(\n",
       "                (base_layer): Linear(in_features=4096, out_features=4096, bias=False)\n",
       "                (lora_dropout): ModuleDict(\n",
       "                  (default): Identity()\n",
       "                )\n",
       "                (lora_A): ModuleDict(\n",
       "                  (default): Linear(in_features=4096, out_features=32, bias=False)\n",
       "                )\n",
       "                (lora_B): ModuleDict(\n",
       "                  (default): Linear(in_features=32, out_features=4096, bias=False)\n",
       "                )\n",
       "                (lora_embedding_A): ParameterDict()\n",
       "                (lora_embedding_B): ParameterDict()\n",
       "                (lora_magnitude_vector): ModuleDict()\n",
       "              )\n",
       "              (rotary_emb): LlamaRotaryEmbedding()\n",
       "            )\n",
       "            (mlp): LlamaMLP(\n",
       "              (gate_proj): lora.Linear(\n",
       "                (base_layer): Linear(in_features=4096, out_features=14336, bias=False)\n",
       "                (lora_dropout): ModuleDict(\n",
       "                  (default): Identity()\n",
       "                )\n",
       "                (lora_A): ModuleDict(\n",
       "                  (default): Linear(in_features=4096, out_features=32, bias=False)\n",
       "                )\n",
       "                (lora_B): ModuleDict(\n",
       "                  (default): Linear(in_features=32, out_features=14336, bias=False)\n",
       "                )\n",
       "                (lora_embedding_A): ParameterDict()\n",
       "                (lora_embedding_B): ParameterDict()\n",
       "                (lora_magnitude_vector): ModuleDict()\n",
       "              )\n",
       "              (up_proj): lora.Linear(\n",
       "                (base_layer): Linear(in_features=4096, out_features=14336, bias=False)\n",
       "                (lora_dropout): ModuleDict(\n",
       "                  (default): Identity()\n",
       "                )\n",
       "                (lora_A): ModuleDict(\n",
       "                  (default): Linear(in_features=4096, out_features=32, bias=False)\n",
       "                )\n",
       "                (lora_B): ModuleDict(\n",
       "                  (default): Linear(in_features=32, out_features=14336, bias=False)\n",
       "                )\n",
       "                (lora_embedding_A): ParameterDict()\n",
       "                (lora_embedding_B): ParameterDict()\n",
       "                (lora_magnitude_vector): ModuleDict()\n",
       "              )\n",
       "              (down_proj): lora.Linear(\n",
       "                (base_layer): Linear(in_features=14336, out_features=4096, bias=False)\n",
       "                (lora_dropout): ModuleDict(\n",
       "                  (default): Identity()\n",
       "                )\n",
       "                (lora_A): ModuleDict(\n",
       "                  (default): Linear(in_features=14336, out_features=32, bias=False)\n",
       "                )\n",
       "                (lora_B): ModuleDict(\n",
       "                  (default): Linear(in_features=32, out_features=4096, bias=False)\n",
       "                )\n",
       "                (lora_embedding_A): ParameterDict()\n",
       "                (lora_embedding_B): ParameterDict()\n",
       "                (lora_magnitude_vector): ModuleDict()\n",
       "              )\n",
       "              (act_fn): SiLU()\n",
       "            )\n",
       "            (input_layernorm): LlamaRMSNorm((4096,), eps=1e-05)\n",
       "            (post_attention_layernorm): LlamaRMSNorm((4096,), eps=1e-05)\n",
       "          )\n",
       "        )\n",
       "        (norm): LlamaRMSNorm((4096,), eps=1e-05)\n",
       "        (rotary_emb): LlamaRotaryEmbedding()\n",
       "      )\n",
       "      (lm_head): Linear(in_features=4096, out_features=128256, bias=False)\n",
       "    )\n",
       "  )\n",
       ")"
      ]
     },
     "execution_count": 11,
     "metadata": {},
     "output_type": "execute_result"
    }
   ],
   "source": [
    "max_seq_length = 2048 \n",
    "model_id = \"jstonge1/dark-data-lora-balanced\"\n",
    "model, tokenizer = FastLanguageModel.from_pretrained(\n",
    "        model_name = model_id, \n",
    "        max_seq_length = max_seq_length,\n",
    "        dtype = None,\n",
    "        load_in_4bit = False,\n",
    "    )\n",
    "FastLanguageModel.for_inference(model) "
   ]
  },
  {
   "cell_type": "code",
   "execution_count": 12,
   "id": "286570ea",
   "metadata": {},
   "outputs": [],
   "source": [
    "streamer = TextStreamer(tokenizer, skip_prompt=True, skip_special_tokens=True)\n",
    "stop_token_ids = [tokenizer.eos_token_id, tokenizer.convert_tokens_to_ids(\"<|eot_id|>\")]"
   ]
  },
  {
   "cell_type": "code",
   "execution_count": 13,
   "id": "50cdabe7",
   "metadata": {},
   "outputs": [],
   "source": [
    "# datas stuff\n",
    "alpaca_prompt = \"\"\"Below is an instruction that describes a task, paired with an input that provides further context. Write a response that appropriately completes the request.\n",
    "\n",
    "### Instruction:\n",
    "{}\n",
    "\n",
    "### Inputs:\n",
    "{}\n",
    "\n",
    "### Response:\n",
    "{}\"\"\"\n",
    "\n",
    "EOS_TOKEN = tokenizer.eos_token # Must add EOS_TOKEN\n",
    "def formatting_prompts_func(examples):\n",
    "    instructions = examples[\"instruction\"]\n",
    "    inputs = examples['text']\n",
    "    outputs      = examples[\"output\"]\n",
    "    texts = []\n",
    "    for instruction, input, output in zip(instructions, inputs, outputs):\n",
    "        # Must add EOS_TOKEN, otherwise your generation will go on forever!\n",
    "        text = alpaca_prompt.format(instruction, input, output) + EOS_TOKEN\n",
    "        texts.append(text)\n",
    "    return { \"text\" : texts, }\n",
    "\n"
   ]
  },
  {
   "cell_type": "code",
   "execution_count": 14,
   "id": "1c27b13a",
   "metadata": {},
   "outputs": [],
   "source": [
    "df = pd.read_parquet(\"../data/annotated_data.parquet\")\n",
    "df = df[~df['sentiment'].str.contains('nan')]\n",
    "df = df[df['sentiment'] != 'maybe']\n",
    "df = df.drop_duplicates(subset='text')\n",
    "df['sentiment_encoded'] = df.sentiment.map({'yes': 1, 'no': 0})\n",
    "X_train, X_test, y_train, y_test = train_test_split(df['text'], df['sentiment_encoded'], test_size=0.2, random_state=42)"
   ]
  },
  {
   "cell_type": "code",
   "execution_count": 15,
   "id": "bd0ddd2b",
   "metadata": {},
   "outputs": [],
   "source": [
    "inputs = [tokenizer(\n",
    "[\n",
    "    alpaca_prompt.format(\n",
    "       'Is data availability statement', # instruction\n",
    "        text, # input\n",
    "        \"\", \n",
    "    )\n",
    "], return_tensors = \"pt\").to(\"cuda\") for text in X_test]"
   ]
  },
  {
   "cell_type": "code",
   "execution_count": 16,
   "id": "52ac6341",
   "metadata": {},
   "outputs": [],
   "source": [
    "replies = []\n",
    "for i in inputs:\n",
    "    outputs = model.generate(**i, max_new_tokens = 64, use_cache = True)\n",
    "    reply = tokenizer.batch_decode(outputs)\n",
    "    reply = reply[0].split(\"Response:\\n\")[-1].replace(\"<|eot_id|>\", \"\")\n",
    "    replies.append(reply)"
   ]
  },
  {
   "cell_type": "code",
   "execution_count": 50,
   "id": "94c3c586",
   "metadata": {},
   "outputs": [],
   "source": [
    "y_pred = np.array(list(map(lambda x: int(x), replies)))"
   ]
  },
  {
   "cell_type": "code",
   "execution_count": null,
   "id": "914f2765",
   "metadata": {},
   "outputs": [
    {
     "name": "stdout",
     "output_type": "stream",
     "text": [
      "0.7796901893287436\n",
      "              precision    recall  f1-score   support\n",
      "\n",
      "           0       0.98      0.78      0.87       551\n",
      "           1       0.16      0.73      0.26        30\n",
      "          37       0.00      0.00      0.00         0\n",
      "\n",
      "    accuracy                           0.78       581\n",
      "   macro avg       0.38      0.51      0.38       581\n",
      "weighted avg       0.94      0.78      0.84       581\n",
      "\n"
     ]
    },
    {
     "name": "stderr",
     "output_type": "stream",
     "text": [
      "/users/j/s/jstonge1/llama_setup_vacc/.venv/lib/python3.11/site-packages/sklearn/metrics/_classification.py:1731: UndefinedMetricWarning: Recall is ill-defined and being set to 0.0 in labels with no true samples. Use `zero_division` parameter to control this behavior.\n",
      "  _warn_prf(average, modifier, f\"{metric.capitalize()} is\", result.shape[0])\n",
      "/users/j/s/jstonge1/llama_setup_vacc/.venv/lib/python3.11/site-packages/sklearn/metrics/_classification.py:1731: UndefinedMetricWarning: Recall is ill-defined and being set to 0.0 in labels with no true samples. Use `zero_division` parameter to control this behavior.\n",
      "  _warn_prf(average, modifier, f\"{metric.capitalize()} is\", result.shape[0])\n",
      "/users/j/s/jstonge1/llama_setup_vacc/.venv/lib/python3.11/site-packages/sklearn/metrics/_classification.py:1731: UndefinedMetricWarning: Recall is ill-defined and being set to 0.0 in labels with no true samples. Use `zero_division` parameter to control this behavior.\n",
      "  _warn_prf(average, modifier, f\"{metric.capitalize()} is\", result.shape[0])\n"
     ]
    },
    {
     "data": {
      "text/plain": [
       "<Figure size 800x600 with 0 Axes>"
      ]
     },
     "metadata": {},
     "output_type": "display_data"
    },
    {
     "data": {
      "image/png": "[encoded data removed]",
      "text/plain": [
       "<Figure size 640x480 with 2 Axes>"
      ]
     },
     "metadata": {},
     "output_type": "display_data"
    }
   ],
   "source": [
    "print(accuracy_score(y_test, y_pred))\n",
    "print(classification_report(y_test, y_pred))\n",
    "\n",
    "mask = (y_test != 37) & (y_pred != 37)\n",
    "y_test_filtered = y_test[mask]\n",
    "y_pred_filtered = y_pred[mask]\n",
    "\n",
    "# Create and display the confusion matrix for binary classification\n",
    "cm = confusion_matrix(y_test_filtered, y_pred_filtered, labels=[0, 1])\n",
    "disp = ConfusionMatrixDisplay(confusion_matrix=cm, display_labels=['No Data Statement', 'Data Statement'])\n",
    "\n",
    "# Plot the confusion matrix\n",
    "plt.figure(figsize=(8, 6))\n",
    "disp.plot(cmap='Blues', values_format='d')\n",
    "plt.title('Confusion Matrix for Data Availability Statement Detection')\n",
    "plt.tight_layout()\n",
    "plt.show()"
   ]
  },
  {
   "cell_type": "markdown",
   "id": "fac04ae5",
   "metadata": {},
   "source": [
    "Is it great? Not really. But it is better than all other approaches we tried so far. Lets just say there is room for improvement."
   ]
  },
  {
   "cell_type": "code",
   "execution_count": 61,
   "id": "680b13d1",
   "metadata": {},
   "outputs": [],
   "source": [
    "y_pred, y_test, X_test = np.array(y_pred), np.array(y_test), np.array(X_test)"
   ]
  },
  {
   "cell_type": "code",
   "execution_count": 62,
   "id": "31206edb",
   "metadata": {},
   "outputs": [],
   "source": [
    "# Predicted yes, but it is no\n",
    "failed_pos_preds = np.array(X_test[np.where((y_pred == 1) & (y_pred != y_test))])\n",
    "# Predicted no, but it is yes\n",
    "failed_neg_preds = np.array(X_test[np.where((y_pred == 0) & (y_pred != y_test))])"
   ]
  },
  {
   "cell_type": "code",
   "execution_count": 21,
   "id": "85bd5c2e",
   "metadata": {},
   "outputs": [
    {
     "name": "stdout",
     "output_type": "stream",
     "text": [
      "The **data** were analyzed using GraphPad PRISM, version 8.4.1,\n",
      "GraphPad Software Inc. San Diego, CA, USA, statistical software. Data\n",
      "were expressed as the mean ± standard error of the mean. The **data**\n",
      "generated during the study were analyzed with one-way ANOVA followed\n",
      "by Tukey's post hoc test for inter-group comparisons. P value ≤ 0.05\n",
      "was considered statistically significant.\n"
     ]
    }
   ],
   "source": [
    "# failed_pos_preds = np.array(X_te\n",
    "print('\\n'.join(wrap(failed_pos_preds[1])))"
   ]
  },
  {
   "cell_type": "code",
   "execution_count": 22,
   "id": "2a7e3b8e",
   "metadata": {},
   "outputs": [
    {
     "name": "stdout",
     "output_type": "stream",
     "text": [
      "Procedures for conducting a convincing sensitivity analysis may depend\n",
      "strongly on the specific model and data , and such procedures are\n",
      "still being developed [ 89][90][91][92][93 ] . The choice of other\n",
      "priors to compare is crucial , yet can be controversial . In\n",
      "applications for which the duration of each individual MCMC is long ,\n",
      "an exhaustive sensitivity analysis may take a very long time , and\n",
      "efficiencies may need to be introduced . Therefore the guidelines here\n",
      "are general , and the analyst is encouraged to explore the literature\n",
      "for model - specific recommendations . Ultimately , the analyst must\n",
      "be thoughtful in exploring plausibly interesting variations in the\n",
      "prior and be forthright in presenting the results . Because of the\n",
      "potential length of a thorough presentation , online supplementary\n",
      "material may be needed and is encouraged ( see ' Make it reproducible\n",
      "' ( BARG step 6 ) ) . Reporting points are listed in Table 1 .\n"
     ]
    }
   ],
   "source": [
    "# Predicted no, but it is yes\n",
    "print('\\n'.join(wrap(failed_neg_preds[1])))"
   ]
  },
  {
   "cell_type": "markdown",
   "id": "2295819f",
   "metadata": {},
   "source": [
    "## Previous models"
   ]
  },
  {
   "cell_type": "markdown",
   "id": "7683fbdb",
   "metadata": {},
   "source": [
    "_llama-3-8B-instruct_ (current)\n",
    "```\n",
    "0.7796901893287436\n",
    "              precision    recall  f1-score   support\n",
    "\n",
    "           0       0.98      0.78      0.87       551\n",
    "           1       0.16      0.73      0.26        30\n",
    "          37       0.00      0.00      0.00         0\n",
    "\n",
    "    accuracy                           0.78       581\n",
    "   macro avg       0.38      0.51      0.38       581\n",
    "weighted avg       0.94      0.78      0.84       581\n",
    "```\n",
    "\n",
    "_llama-3-8B-instruct_ (undertrained)\n",
    "```\n",
    "0.729776247848537\n",
    "              precision    recall  f1-score   support\n",
    "\n",
    "           0       0.97      0.74      0.84       551\n",
    "           1       0.11      0.57      0.18        30\n",
    "\n",
    "    accuracy                           0.73       581\n",
    "   macro avg       0.54      0.65      0.51       581\n",
    "weighted avg       0.92      0.73      0.80       581\n",
    "```\n",
    "\n",
    "_llama-3.2-3B-instruct_\n",
    "```\n",
    "0.5215146299483648\n",
    "              precision    recall  f1-score   support\n",
    "\n",
    "           0       0.99      0.50      0.67       551\n",
    "           1       0.09      0.90      0.16        30\n",
    "\n",
    "    accuracy                           0.52       581\n",
    "   macro avg       0.54      0.70      0.41       581\n",
    "weighted avg       0.94      0.52      0.64       581\n",
    "```"
   ]
  },
  {
   "cell_type": "markdown",
   "id": "afd85bf4",
   "metadata": {},
   "source": [
    "_llama-3.1-8B-instruct_ was terrible, im not even showing it."
   ]
  },
  {
   "cell_type": "markdown",
   "id": "fb504df6",
   "metadata": {},
   "source": []
  }
 ],
 "metadata": {
  "kernelspec": {
   "display_name": "llama-setup-vacc",
   "language": "python",
   "name": "python3"
  },
  "language_info": {
   "codemirror_mode": {
    "name": "ipython",
    "version": 3
   },
   "file_extension": ".py",
   "mimetype": "text/x-python",
   "name": "python",
   "nbconvert_exporter": "python",
   "pygments_lexer": "ipython3",
   "version": "3.11.7"
  }
 },
 "nbformat": 4,
 "nbformat_minor": 5
}

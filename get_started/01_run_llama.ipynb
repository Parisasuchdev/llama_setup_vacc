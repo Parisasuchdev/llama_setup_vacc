{
 "cells": [
  {
   "cell_type": "markdown",
   "id": "0a3e0f63",
   "metadata": {},
   "source": [
    "VACC has downloaded several different models for llama that are present here: /gpfs1/llm/"
   ]
  },
  {
   "cell_type": "code",
   "execution_count": 2,
   "id": "4b0aeeb4",
   "metadata": {},
   "outputs": [],
   "source": [
    "import transformers\n",
    "import torch"
   ]
  },
  {
   "cell_type": "code",
   "execution_count": 3,
   "id": "c27018be",
   "metadata": {},
   "outputs": [
    {
     "data": {
      "application/vnd.jupyter.widget-view+json": {
       "model_id": "a0080be302a84a0eab6d4901964bb91d",
       "version_major": 2,
       "version_minor": 0
      },
      "text/plain": [
       "Loading checkpoint shards:   0%|          | 0/2 [00:00<?, ?it/s]"
      ]
     },
     "metadata": {},
     "output_type": "display_data"
    },
    {
     "name": "stderr",
     "output_type": "stream",
     "text": [
      "Device set to use cuda:0\n",
      "The following generation flags are not valid and may be ignored: ['temperature', 'top_p']. Set `TRANSFORMERS_VERBOSITY=info` for more details.\n",
      "Setting `pad_token_id` to `eos_token_id`:128001 for open-end generation.\n"
     ]
    },
    {
     "name": "stdout",
     "output_type": "stream",
     "text": [
      "### Instruction:\n",
      "Classify the stance of the following text as Support, Oppose, or Neutral.\n",
      "\n",
      "### Input:\n",
      "I used to strongly support breastfeeding, but now I am not so sure. I think it is a personal choice and should be respected either way. So, fed is best.\n",
      "### Response:\n",
      "The stance of the text is Oppose. Although the text starts by mentioning support for breastfeeding, it then expresses doubt and shifts towards a more neutral stance, emphasizing the importance of personal choice and respect for differing opinions. The phrase \"So, fed is best\" is a common slogan used by those who oppose breastfeeding, implying that formula feeding is the better option. Overall, the text's tone and language suggest a more nuanced and critical view of breastfeeding, which is characteristic of an opposing stance.\n"
     ]
    }
   ],
   "source": [
    "model = \"/gpfs1/llm/llama-3.2-hf/Meta-Llama-3.2-3B-Instruct\"\n",
    "\n",
    "classifier = transformers.pipeline(\n",
    "    \"text-generation\",\n",
    "    model=model,\n",
    "    model_kwargs={\"torch_dtype\": torch.bfloat16},\n",
    "    device_map=\"auto\"\n",
    ")\n",
    "\n",
    "prompt = \"\"\"### Instruction:\n",
    "Classify the stance of the following text as Support, Oppose, or Neutral.\n",
    "\n",
    "### Input:\n",
    "I used to strongly support breastfeeding, but now I am not so sure. I think it is a personal choice and should be respected either way. So, fed is best.\n",
    "### Response:\n",
    "\"\"\"\n",
    "\n",
    "result = classifier(prompt, max_new_tokens=400, temperature=0.0, do_sample=False)\n",
    "print(result[0][\"generated_text\"])"
   ]
  }
 ],
 "metadata": {
  "kernelspec": {
   "display_name": "Python 3 (ipykernel)",
   "language": "python",
   "name": "python3"
  },
  "language_info": {
   "codemirror_mode": {
    "name": "ipython",
    "version": 3
   },
   "file_extension": ".py",
   "mimetype": "text/x-python",
   "name": "python",
   "nbconvert_exporter": "python",
   "pygments_lexer": "ipython3",
   "version": "3.13.5"
  }
 },
 "nbformat": 4,
 "nbformat_minor": 5
}

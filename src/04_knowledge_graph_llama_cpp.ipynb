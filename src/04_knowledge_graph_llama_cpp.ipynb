{
 "cells": [
  {
   "cell_type": "markdown",
   "id": "12803792",
   "metadata": {},
   "source": [
    "# Knowledge graph extraction \n",
    "\n",
    "In this notebook, we use `outlines` extract knowledge graphs from a book snippet.\n",
    "\n",
    "We use the following libraries\n",
    " - `outlines`: to get structured outputs during generation \n",
    " - `pydantic`: to provide class for structured outputs\n",
    " - `rich`: for nicer console tools\n",
    " - `llama_cpp`: to run LLMs\n",
    "\n",
    "And models\n",
    " - `NousResearch/Hermes-2-Pro-Llama-3-8B-GGUF` (llama cpp)"
   ]
  },
  {
   "cell_type": "code",
   "execution_count": 2,
   "id": "27f983d2",
   "metadata": {},
   "outputs": [],
   "source": [
    "from outlines import Generator, from_transformers, Template\n",
    "from pydantic import BaseModel, Field\n",
    "from rich import print as rprint \n",
    "from rich.json import JSON  \n",
    "import json\n",
    "from pathlib import Path\n",
    "\n",
    "from rich.console import Console\n",
    "from rich.text import Text\n",
    "from rich.panel import Panel"
   ]
  },
  {
   "cell_type": "code",
   "execution_count": 3,
   "id": "747ec736",
   "metadata": {},
   "outputs": [],
   "source": [
    "# Helpers\n",
    "def highlight_words(text, words, style=\"bold red\"):\n",
    "    rich_text = Text(text)\n",
    "    for word in words:\n",
    "        start = 0\n",
    "        while True:\n",
    "            pos = text.lower().find(word.lower(), start)\n",
    "            if pos == -1:\n",
    "                break\n",
    "            rich_text.stylize(style, pos, pos + len(word))\n",
    "            start = pos + len(word)\n",
    "    return rich_text"
   ]
  },
  {
   "cell_type": "code",
   "execution_count": 4,
   "id": "2b545196",
   "metadata": {},
   "outputs": [
    {
     "name": "stderr",
     "output_type": "stream",
     "text": [
      "/users/j/s/jstonge1/llama_setup_vacc/.venv/lib/python3.11/site-packages/tqdm/auto.py:21: TqdmWarning: IProgress not found. Please update jupyter and ipywidgets. See https://ipywidgets.readthedocs.io/en/stable/user_install.html\n",
      "  from .autonotebook import tqdm as notebook_tqdm\n"
     ]
    }
   ],
   "source": [
    "import llama_cpp\n",
    "import outlines\n",
    "\n",
    "# wget https://hf.co/NousResearch/Hermes-2-Pro-Llama-3-8B-GGUF/resolve/main/Hermes-2-Pro-Llama-3-8B-Q4_K_M.gguf\n",
    "# then move inside the `scratch/` folder\n",
    "model_dir = Path.home() / 'scratch' \n",
    "\n",
    "llm = llama_cpp.Llama(\n",
    "    str(model_dir / \"Hermes-2-Pro-Llama-3-8B-Q4_K_M.gguf\"),\n",
    "    tokenizer=llama_cpp.llama_tokenizer.LlamaHFTokenizer.from_pretrained(\n",
    "        \"NousResearch/Hermes-2-Pro-Llama-3-8B\"\n",
    "    ),\n",
    "    n_gpu_layers=-1,\n",
    "    flash_attn=True,\n",
    "    n_ctx=8192,\n",
    "    verbose=False\n",
    ")\n",
    "model = outlines.from_llamacpp(llm)"
   ]
  },
  {
   "cell_type": "code",
   "execution_count": 5,
   "id": "14de169e",
   "metadata": {},
   "outputs": [],
   "source": [
    "# This text is longer on purpose, and requires some handling.\n",
    "# It contains boilerplate text too. Both we don't doubt the tokens are accurate.\n",
    "text = \"\"\"Like Marshall McLuhan, with whom he was often compared (“the other eminent Catholic-electronic prophet, ” said a scornful Frank Kermode), Ong had the misfortune to make his visionary assessments of a new age just before it actually arrived.\"\"\""
   ]
  },
  {
   "cell_type": "code",
   "execution_count": 6,
   "id": "7f85eeac",
   "metadata": {},
   "outputs": [],
   "source": [
    "# 1. Describe pydantic class\n",
    "class Node(BaseModel):\n",
    "    \"\"\"Node of the Knowledge Graph\"\"\"\n",
    "\n",
    "    id: int = Field(..., description=\"Unique identifier of the node\")\n",
    "    label: str = Field(..., description=\"Label of the node\")\n",
    "    property: str = Field(..., description=\"Property of the node\")\n",
    "\n",
    "class Edge(BaseModel):\n",
    "    \"\"\"Edge of the Knowledge Graph\"\"\"\n",
    "    source: int = Field(..., description=\"Unique source of the edge\")\n",
    "    target: int = Field(..., description=\"Unique target of the edge\")\n",
    "    label: str = Field(..., description=\"Label of the edge\")\n",
    "    property: str = Field(..., description=\"Property of the edge\")\n",
    "\n",
    "class KnowledgeGraph(BaseModel):\n",
    "    \"\"\"Generated Knowledge Graph\"\"\"\n",
    "\n",
    "    nodes: list[Node] = Field(..., description=\"List of nodes of the knowledge graph\")\n",
    "    edges: list[Edge] = Field(..., description=\"List of edges of the knowledge graph\")\n",
    "\n",
    "schema = KnowledgeGraph.model_json_schema()"
   ]
  },
  {
   "cell_type": "code",
   "execution_count": 7,
   "id": "d3e4320a",
   "metadata": {},
   "outputs": [],
   "source": [
    "# 2. Describe prompt\n",
    "generate_hermes_prompt = Template.from_string(\n",
    "    \"\"\"\n",
    "    <|im_start|>system\n",
    "    You are a world class AI model who answers questions in JSON\n",
    "    Here's the json schema you must adhere to:\n",
    "    <schema>\n",
    "    {{ schema }}\n",
    "    </schema>\n",
    "    <|im_end|>\n",
    "    <|im_start|>user\n",
    "    {{ text }}\n",
    "    <|im_end|>\n",
    "    <|im_start|>assistant\n",
    "    <schema>\n",
    "    \"\"\"\n",
    ")"
   ]
  },
  {
   "cell_type": "code",
   "execution_count": 8,
   "id": "120d47c0",
   "metadata": {},
   "outputs": [
    {
     "name": "stderr",
     "output_type": "stream",
     "text": [
      "/users/j/s/jstonge1/llama_setup_vacc/.venv/lib/python3.11/site-packages/llama_cpp/llama.py:1242: RuntimeWarning: Detected duplicate leading \"<|begin_of_text|>\" in prompt, this will likely reduce response quality, consider removing it...\n",
      "  warnings.warn(\n"
     ]
    }
   ],
   "source": [
    "from outlines import Generator\n",
    "\n",
    "generator = Generator(model, KnowledgeGraph)\n",
    "prompt = generate_hermes_prompt(schema=schema, text=text)\n",
    "result = generator(prompt, max_tokens=1024, temperature=0, seed=42)"
   ]
  },
  {
   "cell_type": "code",
   "execution_count": 9,
   "id": "e4b585f5",
   "metadata": {},
   "outputs": [
    {
     "data": {
      "text/html": [
       "<pre style=\"white-space:pre;overflow-x:auto;line-height:normal;font-family:Menlo,'DejaVu Sans Mono',consolas,'Courier New',monospace\"><span style=\"font-weight: bold\">{</span>\n",
       "  <span style=\"color: #000080; text-decoration-color: #000080; font-weight: bold\">\"nodes\"</span>: <span style=\"font-weight: bold\">[</span>\n",
       "    <span style=\"font-weight: bold\">{</span>\n",
       "      <span style=\"color: #000080; text-decoration-color: #000080; font-weight: bold\">\"id\"</span>: <span style=\"color: #008080; text-decoration-color: #008080; font-weight: bold\">1</span>,\n",
       "      <span style=\"color: #000080; text-decoration-color: #000080; font-weight: bold\">\"label\"</span>: <span style=\"color: #008000; text-decoration-color: #008000\">\"Marshall McLuhan\"</span>,\n",
       "      <span style=\"color: #000080; text-decoration-color: #000080; font-weight: bold\">\"property\"</span>: <span style=\"color: #008000; text-decoration-color: #008000\">\"Canadian philosopher and professor\"</span>\n",
       "    <span style=\"font-weight: bold\">}</span>,\n",
       "    <span style=\"font-weight: bold\">{</span>\n",
       "      <span style=\"color: #000080; text-decoration-color: #000080; font-weight: bold\">\"id\"</span>: <span style=\"color: #008080; text-decoration-color: #008080; font-weight: bold\">2</span>,\n",
       "      <span style=\"color: #000080; text-decoration-color: #000080; font-weight: bold\">\"label\"</span>: <span style=\"color: #008000; text-decoration-color: #008000\">\"Frank Kermode\"</span>,\n",
       "      <span style=\"color: #000080; text-decoration-color: #000080; font-weight: bold\">\"property\"</span>: <span style=\"color: #008000; text-decoration-color: #008000\">\"British literary critic\"</span>\n",
       "    <span style=\"font-weight: bold\">}</span>\n",
       "  <span style=\"font-weight: bold\">]</span>,\n",
       "  <span style=\"color: #000080; text-decoration-color: #000080; font-weight: bold\">\"edges\"</span>: <span style=\"font-weight: bold\">[</span>\n",
       "    <span style=\"font-weight: bold\">{</span>\n",
       "      <span style=\"color: #000080; text-decoration-color: #000080; font-weight: bold\">\"source\"</span>: <span style=\"color: #008080; text-decoration-color: #008080; font-weight: bold\">1</span>,\n",
       "      <span style=\"color: #000080; text-decoration-color: #000080; font-weight: bold\">\"target\"</span>: <span style=\"color: #008080; text-decoration-color: #008080; font-weight: bold\">2</span>,\n",
       "      <span style=\"color: #000080; text-decoration-color: #000080; font-weight: bold\">\"label\"</span>: <span style=\"color: #008000; text-decoration-color: #008000\">\"Comparison\"</span>,\n",
       "      <span style=\"color: #000080; text-decoration-color: #000080; font-weight: bold\">\"property\"</span>: <span style=\"color: #008000; text-decoration-color: #008000\">\"Both were compared to each other\"</span>\n",
       "    <span style=\"font-weight: bold\">}</span>,\n",
       "    <span style=\"font-weight: bold\">{</span>\n",
       "      <span style=\"color: #000080; text-decoration-color: #000080; font-weight: bold\">\"source\"</span>: <span style=\"color: #008080; text-decoration-color: #008080; font-weight: bold\">1</span>,\n",
       "      <span style=\"color: #000080; text-decoration-color: #000080; font-weight: bold\">\"target\"</span>: <span style=\"color: #008080; text-decoration-color: #008080; font-weight: bold\">2</span>,\n",
       "      <span style=\"color: #000080; text-decoration-color: #000080; font-weight: bold\">\"label\"</span>: <span style=\"color: #008000; text-decoration-color: #008000\">\"Influence\"</span>,\n",
       "      <span style=\"color: #000080; text-decoration-color: #000080; font-weight: bold\">\"property\"</span>: <span style=\"color: #008000; text-decoration-color: #008000\">\"Ong was influenced by McLuhan's work\"</span>\n",
       "    <span style=\"font-weight: bold\">}</span>,\n",
       "    <span style=\"font-weight: bold\">{</span>\n",
       "      <span style=\"color: #000080; text-decoration-color: #000080; font-weight: bold\">\"source\"</span>: <span style=\"color: #008080; text-decoration-color: #008080; font-weight: bold\">2</span>,\n",
       "      <span style=\"color: #000080; text-decoration-color: #000080; font-weight: bold\">\"target\"</span>: <span style=\"color: #008080; text-decoration-color: #008080; font-weight: bold\">1</span>,\n",
       "      <span style=\"color: #000080; text-decoration-color: #000080; font-weight: bold\">\"label\"</span>: <span style=\"color: #008000; text-decoration-color: #008000\">\"Scorn\"</span>,\n",
       "      <span style=\"color: #000080; text-decoration-color: #000080; font-weight: bold\">\"property\"</span>: <span style=\"color: #008000; text-decoration-color: #008000\">\"Kermode was scornful of Ong's comparison to McLuhan\"</span>\n",
       "    <span style=\"font-weight: bold\">}</span>\n",
       "  <span style=\"font-weight: bold\">]</span>\n",
       "<span style=\"font-weight: bold\">}</span>\n",
       "</pre>\n"
      ],
      "text/plain": [
       "\u001b[1m{\u001b[0m\n",
       "  \u001b[1;34m\"nodes\"\u001b[0m: \u001b[1m[\u001b[0m\n",
       "    \u001b[1m{\u001b[0m\n",
       "      \u001b[1;34m\"id\"\u001b[0m: \u001b[1;36m1\u001b[0m,\n",
       "      \u001b[1;34m\"label\"\u001b[0m: \u001b[32m\"Marshall McLuhan\"\u001b[0m,\n",
       "      \u001b[1;34m\"property\"\u001b[0m: \u001b[32m\"Canadian philosopher and professor\"\u001b[0m\n",
       "    \u001b[1m}\u001b[0m,\n",
       "    \u001b[1m{\u001b[0m\n",
       "      \u001b[1;34m\"id\"\u001b[0m: \u001b[1;36m2\u001b[0m,\n",
       "      \u001b[1;34m\"label\"\u001b[0m: \u001b[32m\"Frank Kermode\"\u001b[0m,\n",
       "      \u001b[1;34m\"property\"\u001b[0m: \u001b[32m\"British literary critic\"\u001b[0m\n",
       "    \u001b[1m}\u001b[0m\n",
       "  \u001b[1m]\u001b[0m,\n",
       "  \u001b[1;34m\"edges\"\u001b[0m: \u001b[1m[\u001b[0m\n",
       "    \u001b[1m{\u001b[0m\n",
       "      \u001b[1;34m\"source\"\u001b[0m: \u001b[1;36m1\u001b[0m,\n",
       "      \u001b[1;34m\"target\"\u001b[0m: \u001b[1;36m2\u001b[0m,\n",
       "      \u001b[1;34m\"label\"\u001b[0m: \u001b[32m\"Comparison\"\u001b[0m,\n",
       "      \u001b[1;34m\"property\"\u001b[0m: \u001b[32m\"Both were compared to each other\"\u001b[0m\n",
       "    \u001b[1m}\u001b[0m,\n",
       "    \u001b[1m{\u001b[0m\n",
       "      \u001b[1;34m\"source\"\u001b[0m: \u001b[1;36m1\u001b[0m,\n",
       "      \u001b[1;34m\"target\"\u001b[0m: \u001b[1;36m2\u001b[0m,\n",
       "      \u001b[1;34m\"label\"\u001b[0m: \u001b[32m\"Influence\"\u001b[0m,\n",
       "      \u001b[1;34m\"property\"\u001b[0m: \u001b[32m\"Ong was influenced by McLuhan's work\"\u001b[0m\n",
       "    \u001b[1m}\u001b[0m,\n",
       "    \u001b[1m{\u001b[0m\n",
       "      \u001b[1;34m\"source\"\u001b[0m: \u001b[1;36m2\u001b[0m,\n",
       "      \u001b[1;34m\"target\"\u001b[0m: \u001b[1;36m1\u001b[0m,\n",
       "      \u001b[1;34m\"label\"\u001b[0m: \u001b[32m\"Scorn\"\u001b[0m,\n",
       "      \u001b[1;34m\"property\"\u001b[0m: \u001b[32m\"Kermode was scornful of Ong's comparison to McLuhan\"\u001b[0m\n",
       "    \u001b[1m}\u001b[0m\n",
       "  \u001b[1m]\u001b[0m\n",
       "\u001b[1m}\u001b[0m\n"
      ]
     },
     "metadata": {},
     "output_type": "display_data"
    }
   ],
   "source": [
    "rprint(JSON(result))"
   ]
  }
 ],
 "metadata": {
  "kernelspec": {
   "display_name": "llama-setup-vacc",
   "language": "python",
   "name": "python3"
  },
  "language_info": {
   "codemirror_mode": {
    "name": "ipython",
    "version": 3
   },
   "file_extension": ".py",
   "mimetype": "text/x-python",
   "name": "python",
   "nbconvert_exporter": "python",
   "pygments_lexer": "ipython3",
   "version": "3.11.7"
  }
 },
 "nbformat": 4,
 "nbformat_minor": 5
}
